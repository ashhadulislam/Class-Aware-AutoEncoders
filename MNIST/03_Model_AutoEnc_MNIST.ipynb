{
 "cells": [
  {
   "cell_type": "code",
   "execution_count": 1,
   "metadata": {},
   "outputs": [],
   "source": [
    "# https://blog.keras.io/building-autoencoders-in-keras.html"
   ]
  },
  {
   "cell_type": "code",
   "execution_count": 19,
   "metadata": {},
   "outputs": [],
   "source": [
    "from tensorflow.keras.datasets import mnist\n",
    "\n",
    "import numpy as np\n",
    "\n",
    "from tensorflow import keras\n",
    "from tensorflow.keras import layers\n",
    "from tensorflow.keras.utils import to_categorical\n",
    "from tensorflow.keras.models import Sequential\n",
    "from tensorflow.keras.layers import Conv2D\n",
    "from tensorflow.keras.layers import MaxPooling2D\n",
    "from tensorflow.keras.layers import Dense\n",
    "from tensorflow.keras.layers import Flatten\n",
    "from tensorflow.keras.models import Model\n",
    "from tensorflow.keras.optimizers import SGD\n",
    "from tensorflow.keras.models import load_model\n",
    "from sklearn.metrics import precision_recall_fscore_support\n",
    "from tensorflow.keras.callbacks import ModelCheckpoint\n",
    "\n",
    "from sklearn.linear_model import LogisticRegression\n",
    "from sklearn.metrics import accuracy_score"
   ]
  },
  {
   "cell_type": "code",
   "execution_count": 3,
   "metadata": {},
   "outputs": [],
   "source": [
    "import matplotlib.pyplot as plt"
   ]
  },
  {
   "cell_type": "markdown",
   "metadata": {},
   "source": [
    "### 01 Get the data"
   ]
  },
  {
   "cell_type": "code",
   "execution_count": 21,
   "metadata": {},
   "outputs": [],
   "source": [
    "(x_train, y_train), (x_test, y_test) = mnist.load_data()\n",
    "\n",
    "x_train = x_train.astype('float32') / 255.\n",
    "x_test = x_test.astype('float32') / 255.\n",
    "x_train = np.reshape(x_train, (len(x_train), 28, 28, 1))\n",
    "x_test = np.reshape(x_test, (len(x_test), 28, 28, 1))"
   ]
  },
  {
   "cell_type": "code",
   "execution_count": null,
   "metadata": {},
   "outputs": [],
   "source": []
  },
  {
   "cell_type": "markdown",
   "metadata": {},
   "source": [
    "### 02 Create and train the model"
   ]
  },
  {
   "cell_type": "code",
   "execution_count": 5,
   "metadata": {},
   "outputs": [],
   "source": [
    "input_img = keras.Input(shape=(28, 28, 1))\n",
    "\n",
    "x = layers.Conv2D(16, (3, 3), activation='relu', padding='same')(input_img)\n",
    "x = layers.MaxPooling2D((2, 2), padding='same')(x)\n",
    "x = layers.Conv2D(8, (3, 3), activation='relu', padding='same')(x)\n",
    "x = layers.MaxPooling2D((2, 2), padding='same')(x)\n",
    "x = layers.Conv2D(8, (3, 3), activation='relu', padding='same')(x)\n",
    "encoded = layers.MaxPooling2D((2, 2), padding='same')(x)\n",
    "\n",
    "# at this point the representation is (4, 4, 8) i.e. 128-dimensional\n",
    "\n",
    "x = layers.Conv2D(8, (3, 3), activation='relu', padding='same')(encoded)\n",
    "x = layers.UpSampling2D((2, 2))(x)\n",
    "x = layers.Conv2D(8, (3, 3), activation='relu', padding='same')(x)\n",
    "x = layers.UpSampling2D((2, 2))(x)\n",
    "x = layers.Conv2D(16, (3, 3), activation='relu')(x)\n",
    "x = layers.UpSampling2D((2, 2))(x)\n",
    "decoded = layers.Conv2D(1, (3, 3), activation='sigmoid', padding='same')(x)\n",
    "\n",
    "autoencoder = keras.Model(input_img, decoded)\n",
    "autoencoder.compile(optimizer='adam', loss='binary_crossentropy')"
   ]
  },
  {
   "cell_type": "code",
   "execution_count": 6,
   "metadata": {},
   "outputs": [
    {
     "name": "stdout",
     "output_type": "stream",
     "text": [
      "Model: \"model\"\n",
      "_________________________________________________________________\n",
      "Layer (type)                 Output Shape              Param #   \n",
      "=================================================================\n",
      "input_1 (InputLayer)         [(None, 28, 28, 1)]       0         \n",
      "_________________________________________________________________\n",
      "conv2d (Conv2D)              (None, 28, 28, 16)        160       \n",
      "_________________________________________________________________\n",
      "max_pooling2d (MaxPooling2D) (None, 14, 14, 16)        0         \n",
      "_________________________________________________________________\n",
      "conv2d_1 (Conv2D)            (None, 14, 14, 8)         1160      \n",
      "_________________________________________________________________\n",
      "max_pooling2d_1 (MaxPooling2 (None, 7, 7, 8)           0         \n",
      "_________________________________________________________________\n",
      "conv2d_2 (Conv2D)            (None, 7, 7, 8)           584       \n",
      "_________________________________________________________________\n",
      "max_pooling2d_2 (MaxPooling2 (None, 4, 4, 8)           0         \n",
      "_________________________________________________________________\n",
      "conv2d_3 (Conv2D)            (None, 4, 4, 8)           584       \n",
      "_________________________________________________________________\n",
      "up_sampling2d (UpSampling2D) (None, 8, 8, 8)           0         \n",
      "_________________________________________________________________\n",
      "conv2d_4 (Conv2D)            (None, 8, 8, 8)           584       \n",
      "_________________________________________________________________\n",
      "up_sampling2d_1 (UpSampling2 (None, 16, 16, 8)         0         \n",
      "_________________________________________________________________\n",
      "conv2d_5 (Conv2D)            (None, 14, 14, 16)        1168      \n",
      "_________________________________________________________________\n",
      "up_sampling2d_2 (UpSampling2 (None, 28, 28, 16)        0         \n",
      "_________________________________________________________________\n",
      "conv2d_6 (Conv2D)            (None, 28, 28, 1)         145       \n",
      "=================================================================\n",
      "Total params: 4,385\n",
      "Trainable params: 4,385\n",
      "Non-trainable params: 0\n",
      "_________________________________________________________________\n"
     ]
    }
   ],
   "source": [
    "autoencoder.summary()"
   ]
  },
  {
   "cell_type": "code",
   "execution_count": 7,
   "metadata": {
    "scrolled": true
   },
   "outputs": [
    {
     "name": "stdout",
     "output_type": "stream",
     "text": [
      "Epoch 1/50\n",
      "469/469 [==============================] - 15s 30ms/step - loss: 0.3183 - val_loss: 0.1441\n",
      "Epoch 2/50\n",
      "469/469 [==============================] - 13s 28ms/step - loss: 0.1389 - val_loss: 0.1251\n",
      "Epoch 3/50\n",
      "469/469 [==============================] - 13s 29ms/step - loss: 0.1238 - val_loss: 0.1179\n",
      "Epoch 4/50\n",
      "469/469 [==============================] - 13s 27ms/step - loss: 0.1172 - val_loss: 0.1129\n",
      "Epoch 5/50\n",
      "469/469 [==============================] - 12s 26ms/step - loss: 0.1136 - val_loss: 0.1096\n",
      "Epoch 6/50\n",
      "469/469 [==============================] - 13s 28ms/step - loss: 0.1106 - val_loss: 0.1074\n",
      "Epoch 7/50\n",
      "469/469 [==============================] - 12s 26ms/step - loss: 0.1083 - val_loss: 0.1057\n",
      "Epoch 8/50\n",
      "469/469 [==============================] - 13s 28ms/step - loss: 0.1064 - val_loss: 0.1044\n",
      "Epoch 9/50\n",
      "469/469 [==============================] - 13s 27ms/step - loss: 0.1048 - val_loss: 0.1030\n",
      "Epoch 10/50\n",
      "469/469 [==============================] - 12s 25ms/step - loss: 0.1038 - val_loss: 0.1020\n",
      "Epoch 11/50\n",
      "469/469 [==============================] - 13s 28ms/step - loss: 0.1025 - val_loss: 0.1010\n",
      "Epoch 12/50\n",
      "469/469 [==============================] - 13s 28ms/step - loss: 0.1014 - val_loss: 0.0997\n",
      "Epoch 13/50\n",
      "469/469 [==============================] - 12s 27ms/step - loss: 0.1009 - val_loss: 0.0991\n",
      "Epoch 14/50\n",
      "469/469 [==============================] - 13s 27ms/step - loss: 0.1000 - val_loss: 0.0995\n",
      "Epoch 15/50\n",
      "469/469 [==============================] - 13s 27ms/step - loss: 0.0994 - val_loss: 0.0977\n",
      "Epoch 16/50\n",
      "469/469 [==============================] - 10s 21ms/step - loss: 0.0986 - val_loss: 0.0973\n",
      "Epoch 17/50\n",
      "469/469 [==============================] - 13s 28ms/step - loss: 0.0980 - val_loss: 0.0967\n",
      "Epoch 18/50\n",
      "469/469 [==============================] - 14s 29ms/step - loss: 0.0973 - val_loss: 0.0962\n",
      "Epoch 19/50\n",
      "469/469 [==============================] - 13s 28ms/step - loss: 0.0970 - val_loss: 0.0956\n",
      "Epoch 20/50\n",
      "469/469 [==============================] - 14s 29ms/step - loss: 0.0966 - val_loss: 0.0954\n",
      "Epoch 21/50\n",
      "469/469 [==============================] - 13s 28ms/step - loss: 0.0958 - val_loss: 0.0946\n",
      "Epoch 22/50\n",
      "469/469 [==============================] - 13s 27ms/step - loss: 0.0956 - val_loss: 0.0943\n",
      "Epoch 23/50\n",
      "469/469 [==============================] - 13s 28ms/step - loss: 0.0951 - val_loss: 0.0941\n",
      "Epoch 24/50\n",
      "469/469 [==============================] - 12s 27ms/step - loss: 0.0950 - val_loss: 0.0938\n",
      "Epoch 25/50\n",
      "469/469 [==============================] - 13s 27ms/step - loss: 0.0948 - val_loss: 0.0933\n",
      "Epoch 26/50\n",
      "469/469 [==============================] - 12s 26ms/step - loss: 0.0941 - val_loss: 0.0933\n",
      "Epoch 27/50\n",
      "469/469 [==============================] - 13s 27ms/step - loss: 0.0942 - val_loss: 0.0930\n",
      "Epoch 28/50\n",
      "469/469 [==============================] - 12s 26ms/step - loss: 0.0937 - val_loss: 0.0927\n",
      "Epoch 29/50\n",
      "469/469 [==============================] - 14s 29ms/step - loss: 0.0935 - val_loss: 0.0922\n",
      "Epoch 30/50\n",
      "469/469 [==============================] - 13s 28ms/step - loss: 0.0934 - val_loss: 0.0920\n",
      "Epoch 31/50\n",
      "469/469 [==============================] - 13s 27ms/step - loss: 0.0931 - val_loss: 0.0922\n",
      "Epoch 32/50\n",
      "469/469 [==============================] - 12s 27ms/step - loss: 0.0925 - val_loss: 0.0918\n",
      "Epoch 33/50\n",
      "469/469 [==============================] - 12s 26ms/step - loss: 0.0924 - val_loss: 0.0915\n",
      "Epoch 34/50\n",
      "469/469 [==============================] - 12s 27ms/step - loss: 0.0924 - val_loss: 0.0912\n",
      "Epoch 35/50\n",
      "469/469 [==============================] - 14s 29ms/step - loss: 0.0922 - val_loss: 0.0916\n",
      "Epoch 36/50\n",
      "469/469 [==============================] - 13s 28ms/step - loss: 0.0919 - val_loss: 0.0912\n",
      "Epoch 37/50\n",
      "469/469 [==============================] - 12s 26ms/step - loss: 0.0918 - val_loss: 0.0908\n",
      "Epoch 38/50\n",
      "469/469 [==============================] - 15s 31ms/step - loss: 0.0917 - val_loss: 0.0911\n",
      "Epoch 39/50\n",
      "469/469 [==============================] - 15s 31ms/step - loss: 0.0917 - val_loss: 0.0904\n",
      "Epoch 40/50\n",
      "469/469 [==============================] - 14s 31ms/step - loss: 0.0914 - val_loss: 0.0906\n",
      "Epoch 41/50\n",
      "469/469 [==============================] - 15s 32ms/step - loss: 0.0914 - val_loss: 0.0905\n",
      "Epoch 42/50\n",
      "469/469 [==============================] - 15s 31ms/step - loss: 0.0911 - val_loss: 0.0901\n",
      "Epoch 43/50\n",
      "469/469 [==============================] - 15s 31ms/step - loss: 0.0911 - val_loss: 0.0899\n",
      "Epoch 44/50\n",
      "469/469 [==============================] - 15s 31ms/step - loss: 0.0909 - val_loss: 0.0900\n",
      "Epoch 45/50\n",
      "469/469 [==============================] - 15s 31ms/step - loss: 0.0910 - val_loss: 0.0899\n",
      "Epoch 46/50\n",
      "469/469 [==============================] - 15s 31ms/step - loss: 0.0909 - val_loss: 0.0895\n",
      "Epoch 47/50\n",
      "469/469 [==============================] - 15s 31ms/step - loss: 0.0905 - val_loss: 0.0896\n",
      "Epoch 48/50\n",
      "469/469 [==============================] - 15s 31ms/step - loss: 0.0905 - val_loss: 0.0894\n",
      "Epoch 49/50\n",
      "469/469 [==============================] - 15s 31ms/step - loss: 0.0906 - val_loss: 0.0893\n",
      "Epoch 50/50\n",
      "469/469 [==============================] - 15s 32ms/step - loss: 0.0904 - val_loss: 0.0892\n"
     ]
    },
    {
     "data": {
      "text/plain": [
       "<tensorflow.python.keras.callbacks.History at 0x2aabcc592240>"
      ]
     },
     "execution_count": 7,
     "metadata": {},
     "output_type": "execute_result"
    }
   ],
   "source": [
    "autoencoder.fit(x_train, x_train,\n",
    "                epochs=50,\n",
    "                batch_size=128,\n",
    "                shuffle=True,\n",
    "                validation_data=(x_test, x_test))\n"
   ]
  },
  {
   "cell_type": "code",
   "execution_count": 8,
   "metadata": {},
   "outputs": [
    {
     "data": {
      "image/png": "[encoded data removed]",
      "text/plain": [
       "<Figure size 1440x288 with 20 Axes>"
      ]
     },
     "metadata": {
      "needs_background": "light"
     },
     "output_type": "display_data"
    }
   ],
   "source": [
    "decoded_imgs = autoencoder.predict(x_test)\n",
    "\n",
    "n = 10\n",
    "plt.figure(figsize=(20, 4))\n",
    "for i in range(1, n + 1):\n",
    "    # Display original\n",
    "    ax = plt.subplot(2, n, i)\n",
    "    plt.imshow(x_test[i].reshape(28, 28))\n",
    "    plt.gray()\n",
    "    ax.get_xaxis().set_visible(False)\n",
    "    ax.get_yaxis().set_visible(False)\n",
    "\n",
    "    # Display reconstruction\n",
    "    ax = plt.subplot(2, n, i + n)\n",
    "    plt.imshow(decoded_imgs[i].reshape(28, 28))\n",
    "    plt.gray()\n",
    "    ax.get_xaxis().set_visible(False)\n",
    "    ax.get_yaxis().set_visible(False)\n",
    "plt.show()\n"
   ]
  },
  {
   "cell_type": "code",
   "execution_count": 12,
   "metadata": {},
   "outputs": [
    {
     "name": "stdout",
     "output_type": "stream",
     "text": [
      "INFO:tensorflow:Assets written to: models/mnist/autoenc_simple.h/assets\n"
     ]
    }
   ],
   "source": [
    "autoencoder.save(\"models/mnist/autoenc_simple.h\")"
   ]
  },
  {
   "cell_type": "code",
   "execution_count": 99,
   "metadata": {},
   "outputs": [
    {
     "data": {
      "text/plain": [
       "7"
      ]
     },
     "execution_count": 99,
     "metadata": {},
     "output_type": "execute_result"
    }
   ],
   "source": [
    "y_test[0]"
   ]
  },
  {
   "cell_type": "markdown",
   "metadata": {},
   "source": [
    "#### 02a Save the encoder part"
   ]
  },
  {
   "cell_type": "code",
   "execution_count": null,
   "metadata": {},
   "outputs": [],
   "source": [
    "encoder = Model(inputs=input_img, outputs=encoded)\n",
    "encoder.save('models/mnist/encoder_simple.h5')"
   ]
  },
  {
   "cell_type": "markdown",
   "metadata": {},
   "source": [
    "### 03 Test encoded images with a LogReg"
   ]
  },
  {
   "cell_type": "code",
   "execution_count": 15,
   "metadata": {},
   "outputs": [],
   "source": []
  },
  {
   "cell_type": "code",
   "execution_count": 17,
   "metadata": {},
   "outputs": [],
   "source": [
    "def flatten_encoded_images_for_logreg(X_array):\n",
    "    print(X_array.shape)\n",
    "    X_array_flattened=[]\n",
    "    for i in range(X_array.shape[0]):\n",
    "        X_array_flattened.append(X_array[i].flatten())\n",
    "    X_array_flattened=np.array(X_array_flattened)\n",
    "    print(\"Shape is \",X_array_flattened.shape)\n",
    "    return X_array_flattened"
   ]
  },
  {
   "cell_type": "code",
   "execution_count": 23,
   "metadata": {},
   "outputs": [
    {
     "name": "stdout",
     "output_type": "stream",
     "text": [
      "WARNING:tensorflow:No training configuration found in the save file, so the model was *not* compiled. Compile it manually.\n",
      "(60000, 4, 4, 8)\n",
      "Shape is  (60000, 128)\n",
      "Shape of encoded flat (60000, 128)\n",
      "(10000, 4, 4, 8)\n",
      "Shape is  (10000, 128)\n",
      "Shape of encoded flat (10000, 4, 4, 8)\n",
      "0.9499\n"
     ]
    },
    {
     "name": "stderr",
     "output_type": "stream",
     "text": [
      "/lustre/gfxhome/asislam25/.conda/envs/venv_vasic_gpu/lib/python3.6/site-packages/sklearn/linear_model/_logistic.py:764: ConvergenceWarning: lbfgs failed to converge (status=1):\n",
      "STOP: TOTAL NO. of ITERATIONS REACHED LIMIT.\n",
      "\n",
      "Increase the number of iterations (max_iter) or scale the data as shown in:\n",
      "    https://scikit-learn.org/stable/modules/preprocessing.html\n",
      "Please also refer to the documentation for alternative solver options:\n",
      "    https://scikit-learn.org/stable/modules/linear_model.html#logistic-regression\n",
      "  extra_warning_msg=_LOGISTIC_SOLVER_CONVERGENCE_MSG)\n"
     ]
    }
   ],
   "source": [
    "# load the model from file\n",
    "encoder = load_model('models/mnist/encoder_simple.h5')\n",
    "# encode the train data\n",
    "x_train_encode = encoder.predict(x_train)\n",
    "x_train_encode_flat=flatten_encoded_images_for_logreg(x_train_encode)\n",
    "\n",
    "# x_train_encode=x_train_encode.flatten()\n",
    "print(\"Shape of encoded flat\",x_train_encode_flat.shape)\n",
    "# encode the test data\n",
    "x_test_encode = encoder.predict(x_test)\n",
    "x_test_encode_flat=flatten_encoded_images_for_logreg(x_test_encode)\n",
    "print(\"Shape of encoded flat\",x_test_encode.shape)\n",
    "\n"
   ]
  },
  {
   "cell_type": "code",
   "execution_count": 24,
   "metadata": {},
   "outputs": [
    {
     "name": "stdout",
     "output_type": "stream",
     "text": [
      "0.9499\n"
     ]
    },
    {
     "name": "stderr",
     "output_type": "stream",
     "text": [
      "/lustre/gfxhome/asislam25/.conda/envs/venv_vasic_gpu/lib/python3.6/site-packages/sklearn/linear_model/_logistic.py:764: ConvergenceWarning: lbfgs failed to converge (status=1):\n",
      "STOP: TOTAL NO. of ITERATIONS REACHED LIMIT.\n",
      "\n",
      "Increase the number of iterations (max_iter) or scale the data as shown in:\n",
      "    https://scikit-learn.org/stable/modules/preprocessing.html\n",
      "Please also refer to the documentation for alternative solver options:\n",
      "    https://scikit-learn.org/stable/modules/linear_model.html#logistic-regression\n",
      "  extra_warning_msg=_LOGISTIC_SOLVER_CONVERGENCE_MSG)\n"
     ]
    }
   ],
   "source": [
    "# define the model\n",
    "model = LogisticRegression()\n",
    "# fit the model on the training set\n",
    "model.fit(x_train_encode_flat, y_train)\n",
    "# make predictions on the test set\n",
    "yhat = model.predict(x_test_encode_flat)\n",
    "# calculate classification accuracy\n",
    "acc = accuracy_score(y_test, yhat)\n",
    "print(acc)"
   ]
  },
  {
   "cell_type": "markdown",
   "metadata": {},
   "source": [
    "### 04 Test encoded images with a CNN"
   ]
  },
  {
   "cell_type": "code",
   "execution_count": 37,
   "metadata": {},
   "outputs": [],
   "source": [
    "# https://towardsdatascience.com/building-a-convolutional-neural-network-cnn-in-keras-329fbbadc5f5"
   ]
  },
  {
   "cell_type": "markdown",
   "metadata": {},
   "source": [
    "#### 04a Convert y values to categorical"
   ]
  },
  {
   "cell_type": "code",
   "execution_count": 25,
   "metadata": {},
   "outputs": [
    {
     "name": "stdout",
     "output_type": "stream",
     "text": [
      "(60000, 10) (10000, 10)\n"
     ]
    }
   ],
   "source": [
    "#one-hot encode target column\n",
    "y_train_one_hot = to_categorical(y_train)\n",
    "y_test_one_hot = to_categorical(y_test)\n",
    "print(y_train_one_hot.shape,y_test_one_hot.shape)"
   ]
  },
  {
   "cell_type": "markdown",
   "metadata": {},
   "source": [
    "#### 04b Extract features using encoder"
   ]
  },
  {
   "cell_type": "code",
   "execution_count": 28,
   "metadata": {},
   "outputs": [
    {
     "name": "stdout",
     "output_type": "stream",
     "text": [
      "WARNING:tensorflow:No training configuration found in the save file, so the model was *not* compiled. Compile it manually.\n",
      "Shape of training encoded images (60000, 4, 4, 8)\n",
      "Shape of testing encoded images (10000, 4, 4, 8)\n"
     ]
    }
   ],
   "source": [
    "# load the model from file\n",
    "encoder = load_model('models/mnist/encoder_simple.h5')\n",
    "# encode the train data\n",
    "x_train_encode = encoder.predict(x_train)\n",
    "print(\"Shape of training encoded images\",x_train_encode.shape)\n",
    "\n",
    "# encode the test data\n",
    "x_test_encode = encoder.predict(x_test)\n",
    "print(\"Shape of testing encoded images\",x_test_encode.shape)\n"
   ]
  },
  {
   "cell_type": "code",
   "execution_count": 29,
   "metadata": {},
   "outputs": [
    {
     "name": "stdout",
     "output_type": "stream",
     "text": [
      "(4, 4, 8) (4, 4, 8)\n"
     ]
    }
   ],
   "source": [
    "print(x_train_encode[0].shape,x_test_encode[1].shape)"
   ]
  },
  {
   "cell_type": "markdown",
   "metadata": {},
   "source": [
    "### 04c create a CNN that takes encoded image as input"
   ]
  },
  {
   "cell_type": "code",
   "execution_count": 38,
   "metadata": {},
   "outputs": [
    {
     "name": "stdout",
     "output_type": "stream",
     "text": [
      "313/313 [==============================] - 0s 861us/step - loss: 0.0697 - accuracy: 0.9818\n",
      "Accuracy is  0.9818000197410583\n"
     ]
    }
   ],
   "source": [
    "# define a CNN to make the predictions\n",
    "#create model\n",
    "model = Sequential()#add model layers\n",
    "model.add(Conv2D(64, kernel_size=2, activation='relu', input_shape=x_train_encode[0].shape))\n",
    "model.add(Conv2D(32, kernel_size=3, activation='relu'))\n",
    "model.add(Flatten())\n",
    "model.add(Dense(10, activation='softmax'))\n",
    "\n",
    "#compile model using accuracy to measure model performance\n",
    "model.compile(optimizer='adam', loss='categorical_crossentropy', metrics=['accuracy'])\n",
    "#train the model\n",
    "num_epochs=50\n",
    "history=model.fit(x_train_encode, y_train_one_hot, validation_data=(x_test_encode, y_test_one_hot), epochs=num_epochs,verbose=0)\n",
    "\n",
    "loss,acc=model.evaluate(x_test_encode, y_test_one_hot)\n",
    "print(\"Accuracy is \",acc)\n",
    "\n"
   ]
  },
  {
   "cell_type": "code",
   "execution_count": 39,
   "metadata": {},
   "outputs": [
    {
     "data": {
      "image/png": "[encoded data removed]",
      "text/plain": [
       "<Figure size 432x288 with 1 Axes>"
      ]
     },
     "metadata": {
      "needs_background": "light"
     },
     "output_type": "display_data"
    }
   ],
   "source": [
    "import matplotlib.pyplot as plt\n",
    "\n",
    "plt.plot(history.history['accuracy'])\n",
    "plt.plot(history.history['val_accuracy'])\n",
    "plt.title('model accuracy')\n",
    "plt.ylabel('accuracy')\n",
    "plt.xlabel('epoch')\n",
    "plt.legend(['train', 'test'], loc='upper left')\n",
    "plt.show()"
   ]
  },
  {
   "cell_type": "code",
   "execution_count": null,
   "metadata": {},
   "outputs": [],
   "source": []
  }
 ],
 "metadata": {
  "kernelspec": {
   "display_name": "Python 3",
   "language": "python",
   "name": "python3"
  },
  "language_info": {
   "codemirror_mode": {
    "name": "ipython",
    "version": 3
   },
   "file_extension": ".py",
   "mimetype": "text/x-python",
   "name": "python",
   "nbconvert_exporter": "python",
   "pygments_lexer": "ipython3",
   "version": "3.6.10"
  }
 },
 "nbformat": 4,
 "nbformat_minor": 4
}
