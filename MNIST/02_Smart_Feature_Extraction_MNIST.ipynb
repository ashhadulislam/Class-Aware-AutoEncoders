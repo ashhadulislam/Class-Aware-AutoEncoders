{
 "cells": [
  {
   "cell_type": "code",
   "execution_count": 60,
   "metadata": {},
   "outputs": [],
   "source": [
    "from tensorflow.keras.datasets import mnist\n",
    "\n",
    "import numpy as np\n",
    "\n",
    "from tensorflow import keras\n",
    "from tensorflow.keras import layers\n",
    "from tensorflow.keras.utils import to_categorical\n",
    "from tensorflow.keras.models import Sequential\n",
    "from tensorflow.keras.layers import Conv2D\n",
    "from tensorflow.keras.layers import MaxPooling2D\n",
    "from tensorflow.keras.layers import Dense\n",
    "from tensorflow.keras.layers import Flatten\n",
    "from tensorflow.keras.models import Model\n",
    "from tensorflow.keras.optimizers import SGD\n",
    "from tensorflow.keras.models import load_model\n",
    "from sklearn.metrics import precision_recall_fscore_support\n",
    "from tensorflow.keras.callbacks import ModelCheckpoint\n",
    "\n",
    "from sklearn.linear_model import LogisticRegression\n",
    "from sklearn.metrics import accuracy_score"
   ]
  },
  {
   "cell_type": "code",
   "execution_count": 2,
   "metadata": {},
   "outputs": [],
   "source": [
    "import matplotlib.pyplot as plt"
   ]
  },
  {
   "cell_type": "markdown",
   "metadata": {},
   "source": [
    "### 01 Get the data"
   ]
  },
  {
   "cell_type": "code",
   "execution_count": 71,
   "metadata": {},
   "outputs": [],
   "source": [
    "(x_train, y_train), (x_test, y_test) = mnist.load_data()\n",
    "x_train = x_train.astype('float32')\n",
    "x_test = x_test.astype('float32')\n",
    "# x_train = x_train.astype('float32') / 255.\n",
    "# x_test = x_test.astype('float32') / 255.\n",
    "x_train = np.reshape(x_train, (len(x_train), 28, 28))\n",
    "x_test = np.reshape(x_test, (len(x_test), 28, 28))\n"
   ]
  },
  {
   "cell_type": "code",
   "execution_count": null,
   "metadata": {},
   "outputs": [],
   "source": []
  },
  {
   "cell_type": "code",
   "execution_count": null,
   "metadata": {},
   "outputs": [],
   "source": []
  },
  {
   "cell_type": "code",
   "execution_count": 25,
   "metadata": {},
   "outputs": [
    {
     "name": "stdout",
     "output_type": "stream",
     "text": [
      "(60000, 28, 28) (60000,)\n",
      "(10000, 28, 28) (10000,)\n"
     ]
    }
   ],
   "source": [
    "print(x_train.shape,y_train.shape)\n",
    "print(x_test.shape,y_test.shape)"
   ]
  },
  {
   "cell_type": "markdown",
   "metadata": {},
   "source": [
    "#### 01a Pad the train data with -1 for left hand side"
   ]
  },
  {
   "cell_type": "code",
   "execution_count": 27,
   "metadata": {},
   "outputs": [
    {
     "name": "stdout",
     "output_type": "stream",
     "text": [
      "(60000, 30, 30, 1)\n"
     ]
    }
   ],
   "source": [
    "x_train_left=[]\n",
    "for i in range(x_train.shape[0]):\n",
    "    x_train_left.append(np.pad(x_train[i],(1,1),'constant',constant_values=(-1)))\n",
    "x_train_left=np.array(x_train_left)\n",
    "x_train_left = x_train_left.astype('float32') / 255.\n",
    "x_train_left = np.reshape(x_train_left, (len(x_train_left), 30, 30, 1))\n",
    "print(x_train_left.shape)    "
   ]
  },
  {
   "cell_type": "markdown",
   "metadata": {},
   "source": [
    "#### 01b Pad the train data with y_values for right hand side"
   ]
  },
  {
   "cell_type": "code",
   "execution_count": 28,
   "metadata": {},
   "outputs": [
    {
     "name": "stdout",
     "output_type": "stream",
     "text": [
      "(60000, 30, 30, 1)\n"
     ]
    }
   ],
   "source": [
    "x_train_right=[]\n",
    "for i in range(x_train.shape[0]):\n",
    "    x_train_right.append(np.pad(x_train[i],(1,1),'constant',constant_values=(y_train[i])))\n",
    "    \n",
    "x_train_right=np.array(x_train_right)\n",
    "x_train_right = x_train_right.astype('float32') / 255.\n",
    "x_train_right = np.reshape(x_train_right, (len(x_train_right), 30, 30, 1))\n",
    "print(x_train_right.shape)    "
   ]
  },
  {
   "cell_type": "markdown",
   "metadata": {},
   "source": [
    "#### 01c Pad the test data with -1 for left hand side"
   ]
  },
  {
   "cell_type": "code",
   "execution_count": 29,
   "metadata": {},
   "outputs": [
    {
     "name": "stdout",
     "output_type": "stream",
     "text": [
      "(10000, 30, 30, 1)\n"
     ]
    }
   ],
   "source": [
    "x_test_left=[]\n",
    "for i in range(x_test.shape[0]):\n",
    "    x_test_left.append(np.pad(x_test[i],(1,1),'constant',constant_values=(-1)))\n",
    "x_test_left=np.array(x_test_left)\n",
    "x_test_left = x_test_left.astype('float32') / 255.\n",
    "x_test_left = np.reshape(x_test_left, (len(x_test_left), 30, 30, 1))\n",
    "print(x_test_left.shape)    "
   ]
  },
  {
   "cell_type": "markdown",
   "metadata": {},
   "source": [
    "#### 01d Pad the test data with y values for right hand side"
   ]
  },
  {
   "cell_type": "code",
   "execution_count": 30,
   "metadata": {},
   "outputs": [
    {
     "name": "stdout",
     "output_type": "stream",
     "text": [
      "(10000, 30, 30, 1)\n"
     ]
    }
   ],
   "source": [
    "x_test_right=[]\n",
    "for i in range(x_test.shape[0]):\n",
    "    x_test_right.append(np.pad(x_test[i],(1,1),'constant',constant_values=(y_test[i])))\n",
    "x_test_right=np.array(x_test_right)\n",
    "x_test_right = x_test_right.astype('float32') / 255.\n",
    "x_test_right = np.reshape(x_test_right, (len(x_test_right), 30, 30, 1))\n",
    "print(x_test_right.shape)    "
   ]
  },
  {
   "cell_type": "markdown",
   "metadata": {},
   "source": [
    "### 02 Create and train the model"
   ]
  },
  {
   "cell_type": "code",
   "execution_count": null,
   "metadata": {},
   "outputs": [],
   "source": []
  },
  {
   "cell_type": "code",
   "execution_count": 36,
   "metadata": {},
   "outputs": [],
   "source": [
    "input_img = keras.Input(shape=(30, 30, 1))\n",
    "\n",
    "x = layers.Conv2D(16, (3, 3), activation='relu', padding='same')(input_img)\n",
    "x = layers.MaxPooling2D((2, 2), padding='same')(x)\n",
    "x = layers.Conv2D(8, (3, 3), activation='relu', padding='same')(x)\n",
    "\n",
    "encoded = layers.MaxPooling2D((3, 3), padding='same')(x)\n",
    "# x = layers.Conv2D(8, (3, 3), activation='relu', padding='same')(x)\n",
    "# encoded = layers.MaxPooling2D((5, 5), padding='same')(x)\n",
    "\n",
    "# at this point the representation is (4, 4, 8) i.e. 128-dimensional\n",
    "\n",
    "# x = layers.Conv2D(8, (3, 3), activation='relu', padding='same')(encoded)\n",
    "# x = layers.UpSampling2D((5, 5))(x)\n",
    "x = layers.Conv2D(8, (3, 3), activation='relu', padding='same')(encoded)\n",
    "x = layers.UpSampling2D((3, 3))(x)\n",
    "x = layers.Conv2D(15, (3, 3), activation='relu',padding='same')(x)\n",
    "x = layers.UpSampling2D((2, 2))(x)\n",
    "decoded = layers.Conv2D(1, (3, 3), activation='sigmoid', padding='same')(x)\n",
    "\n",
    "autoencoder = keras.Model(input_img, decoded)\n",
    "\n",
    "optimizer = keras.optimizers.Adam(lr=0.01)\n",
    "autoencoder.compile(loss='binary_crossentropy', optimizer=optimizer)\n",
    "\n",
    "\n",
    "# autoencoder.compile(optimizer='sgd', loss='mse', lr=0.01)\n"
   ]
  },
  {
   "cell_type": "code",
   "execution_count": 37,
   "metadata": {},
   "outputs": [
    {
     "name": "stdout",
     "output_type": "stream",
     "text": [
      "Model: \"model\"\n",
      "_________________________________________________________________\n",
      "Layer (type)                 Output Shape              Param #   \n",
      "=================================================================\n",
      "input_1 (InputLayer)         [(None, 30, 30, 1)]       0         \n",
      "_________________________________________________________________\n",
      "conv2d (Conv2D)              (None, 30, 30, 16)        160       \n",
      "_________________________________________________________________\n",
      "max_pooling2d (MaxPooling2D) (None, 15, 15, 16)        0         \n",
      "_________________________________________________________________\n",
      "conv2d_1 (Conv2D)            (None, 15, 15, 8)         1160      \n",
      "_________________________________________________________________\n",
      "max_pooling2d_1 (MaxPooling2 (None, 5, 5, 8)           0         \n",
      "_________________________________________________________________\n",
      "conv2d_2 (Conv2D)            (None, 5, 5, 8)           584       \n",
      "_________________________________________________________________\n",
      "up_sampling2d (UpSampling2D) (None, 15, 15, 8)         0         \n",
      "_________________________________________________________________\n",
      "conv2d_3 (Conv2D)            (None, 15, 15, 15)        1095      \n",
      "_________________________________________________________________\n",
      "up_sampling2d_1 (UpSampling2 (None, 30, 30, 15)        0         \n",
      "_________________________________________________________________\n",
      "conv2d_4 (Conv2D)            (None, 30, 30, 1)         136       \n",
      "=================================================================\n",
      "Total params: 3,135\n",
      "Trainable params: 3,135\n",
      "Non-trainable params: 0\n",
      "_________________________________________________________________\n"
     ]
    }
   ],
   "source": [
    "autoencoder.summary()"
   ]
  },
  {
   "cell_type": "code",
   "execution_count": 38,
   "metadata": {
    "collapsed": true
   },
   "outputs": [
    {
     "name": "stderr",
     "output_type": "stream",
     "text": [
      "Using TensorFlow backend.\n"
     ]
    },
    {
     "name": "stdout",
     "output_type": "stream",
     "text": [
      "Epoch 1/50\n",
      "469/469 [==============================] - 10s 21ms/step - loss: 0.1928 - val_loss: 0.1103\n",
      "Epoch 2/50\n",
      "469/469 [==============================] - 9s 19ms/step - loss: 0.1069 - val_loss: 0.1037\n",
      "Epoch 3/50\n",
      "469/469 [==============================] - 9s 19ms/step - loss: 0.1010 - val_loss: 0.0972\n",
      "Epoch 4/50\n",
      "469/469 [==============================] - 9s 19ms/step - loss: 0.0984 - val_loss: 0.0948\n",
      "Epoch 5/50\n",
      "469/469 [==============================] - 9s 19ms/step - loss: 0.0965 - val_loss: 0.0956\n",
      "Epoch 6/50\n",
      "469/469 [==============================] - 9s 19ms/step - loss: 0.0953 - val_loss: 0.0948\n",
      "Epoch 7/50\n",
      "469/469 [==============================] - 9s 19ms/step - loss: 0.0953 - val_loss: 0.0941\n",
      "Epoch 8/50\n",
      "469/469 [==============================] - 9s 19ms/step - loss: 0.0938 - val_loss: 0.0923\n",
      "Epoch 9/50\n",
      "469/469 [==============================] - 9s 19ms/step - loss: 0.0931 - val_loss: 0.0923\n",
      "Epoch 10/50\n",
      "469/469 [==============================] - 9s 19ms/step - loss: 0.0926 - val_loss: 0.0921\n",
      "Epoch 11/50\n",
      "469/469 [==============================] - 9s 19ms/step - loss: 0.0923 - val_loss: 0.0908\n",
      "Epoch 12/50\n",
      "469/469 [==============================] - 9s 19ms/step - loss: 0.0921 - val_loss: 0.0904\n",
      "Epoch 13/50\n",
      "469/469 [==============================] - 9s 19ms/step - loss: 0.0920 - val_loss: 0.0904\n",
      "Epoch 14/50\n",
      "469/469 [==============================] - 9s 19ms/step - loss: 0.0917 - val_loss: 0.0908\n",
      "Epoch 15/50\n",
      "469/469 [==============================] - 9s 19ms/step - loss: 0.0916 - val_loss: 0.0909\n",
      "Epoch 16/50\n",
      "469/469 [==============================] - 9s 19ms/step - loss: 0.0915 - val_loss: 0.0906\n",
      "Epoch 17/50\n",
      "469/469 [==============================] - 9s 19ms/step - loss: 0.0917 - val_loss: 0.0907\n",
      "Epoch 18/50\n",
      "469/469 [==============================] - 9s 19ms/step - loss: 0.0913 - val_loss: 0.0896\n",
      "Epoch 19/50\n",
      "469/469 [==============================] - 9s 19ms/step - loss: 0.0912 - val_loss: 0.0898\n",
      "Epoch 20/50\n",
      "469/469 [==============================] - 9s 19ms/step - loss: 0.0910 - val_loss: 0.0902\n",
      "Epoch 21/50\n",
      "469/469 [==============================] - 9s 19ms/step - loss: 0.0911 - val_loss: 0.0904\n",
      "Epoch 22/50\n",
      "469/469 [==============================] - 9s 19ms/step - loss: 0.0909 - val_loss: 0.0900\n",
      "Epoch 23/50\n",
      "469/469 [==============================] - 9s 19ms/step - loss: 0.0907 - val_loss: 0.0897\n",
      "Epoch 24/50\n",
      "469/469 [==============================] - 9s 19ms/step - loss: 0.0907 - val_loss: 0.0894\n",
      "Epoch 25/50\n",
      "469/469 [==============================] - 9s 19ms/step - loss: 0.0906 - val_loss: 0.0893\n",
      "Epoch 26/50\n",
      "469/469 [==============================] - 9s 19ms/step - loss: 0.0906 - val_loss: 0.0897\n",
      "Epoch 27/50\n",
      "469/469 [==============================] - 9s 19ms/step - loss: 0.0906 - val_loss: 0.0959\n",
      "Epoch 28/50\n",
      "469/469 [==============================] - 9s 19ms/step - loss: 0.0910 - val_loss: 0.0897\n",
      "Epoch 29/50\n",
      "469/469 [==============================] - 9s 19ms/step - loss: 0.0906 - val_loss: 0.0894\n",
      "Epoch 30/50\n",
      "469/469 [==============================] - 9s 19ms/step - loss: 0.0905 - val_loss: 0.0890\n",
      "Epoch 31/50\n",
      "469/469 [==============================] - 9s 19ms/step - loss: 0.0905 - val_loss: 0.0896\n",
      "Epoch 32/50\n",
      "469/469 [==============================] - 9s 19ms/step - loss: 0.0904 - val_loss: 0.0896\n",
      "Epoch 33/50\n",
      "469/469 [==============================] - 9s 19ms/step - loss: 0.0904 - val_loss: 0.0888\n",
      "Epoch 34/50\n",
      "469/469 [==============================] - 9s 19ms/step - loss: 0.0901 - val_loss: 0.0887\n",
      "Epoch 35/50\n",
      "469/469 [==============================] - 9s 19ms/step - loss: 0.0902 - val_loss: 0.0898\n",
      "Epoch 36/50\n",
      "469/469 [==============================] - 9s 19ms/step - loss: 0.0902 - val_loss: 0.0901\n",
      "Epoch 37/50\n",
      "469/469 [==============================] - 9s 19ms/step - loss: 0.0902 - val_loss: 0.0889\n",
      "Epoch 38/50\n",
      "469/469 [==============================] - 9s 19ms/step - loss: 0.0899 - val_loss: 0.0886\n",
      "Epoch 39/50\n",
      "469/469 [==============================] - 9s 19ms/step - loss: 0.0900 - val_loss: 0.0904\n",
      "Epoch 40/50\n",
      "469/469 [==============================] - 9s 19ms/step - loss: 0.0900 - val_loss: 0.0891\n",
      "Epoch 41/50\n",
      "469/469 [==============================] - 9s 19ms/step - loss: 0.0902 - val_loss: 0.0883\n",
      "Epoch 42/50\n",
      "469/469 [==============================] - 9s 19ms/step - loss: 0.0900 - val_loss: 0.0884\n",
      "Epoch 43/50\n",
      "469/469 [==============================] - 9s 18ms/step - loss: 0.0904 - val_loss: 0.0884\n",
      "Epoch 44/50\n",
      "469/469 [==============================] - 9s 18ms/step - loss: 0.0899 - val_loss: 0.0895\n",
      "Epoch 45/50\n",
      "469/469 [==============================] - 9s 19ms/step - loss: 0.0904 - val_loss: 0.0885\n",
      "Epoch 46/50\n",
      "469/469 [==============================] - 9s 19ms/step - loss: 0.0899 - val_loss: 0.0889\n",
      "Epoch 47/50\n",
      "469/469 [==============================] - 9s 19ms/step - loss: 0.0900 - val_loss: 0.0883\n",
      "Epoch 48/50\n",
      "469/469 [==============================] - 9s 19ms/step - loss: 0.0897 - val_loss: 0.0884\n",
      "Epoch 49/50\n",
      "469/469 [==============================] - 9s 19ms/step - loss: 0.0900 - val_loss: 0.0886\n",
      "Epoch 50/50\n",
      "469/469 [==============================] - 9s 19ms/step - loss: 0.0898 - val_loss: 0.0887\n"
     ]
    },
    {
     "data": {
      "text/plain": [
       "<tensorflow.python.keras.callbacks.History at 0x2aabd55cf898>"
      ]
     },
     "execution_count": 38,
     "metadata": {},
     "output_type": "execute_result"
    }
   ],
   "source": [
    "from keras.callbacks import TensorBoard\n",
    "\n",
    "autoencoder.fit(x_train_left, x_train_right,\n",
    "                epochs=50,\n",
    "                batch_size=128,\n",
    "                shuffle=True,\n",
    "                validation_data=(x_test_left, x_test_right))\n"
   ]
  },
  {
   "cell_type": "code",
   "execution_count": 39,
   "metadata": {},
   "outputs": [
    {
     "data": {
      "image/png": "[encoded data removed]",
      "text/plain": [
       "<Figure size 1440x288 with 20 Axes>"
      ]
     },
     "metadata": {
      "needs_background": "light"
     },
     "output_type": "display_data"
    }
   ],
   "source": [
    "decoded_imgs = autoencoder.predict(x_test_left)\n",
    "\n",
    "n = 10\n",
    "plt.figure(figsize=(20, 4))\n",
    "for i in range(1, n + 1):\n",
    "    # Display original\n",
    "    ax = plt.subplot(2, n, i)\n",
    "    plt.imshow(x_test_right[i].reshape(30, 30))\n",
    "    plt.gray()\n",
    "    ax.get_xaxis().set_visible(False)\n",
    "    ax.get_yaxis().set_visible(False)\n",
    "\n",
    "    # Display reconstruction\n",
    "    ax = plt.subplot(2, n, i + n)\n",
    "    plt.imshow(decoded_imgs[i].reshape(30, 30))\n",
    "    plt.gray()\n",
    "    ax.get_xaxis().set_visible(False)\n",
    "    ax.get_yaxis().set_visible(False)\n",
    "plt.show()\n"
   ]
  },
  {
   "cell_type": "code",
   "execution_count": 41,
   "metadata": {},
   "outputs": [
    {
     "name": "stdout",
     "output_type": "stream",
     "text": [
      "INFO:tensorflow:Assets written to: models/mnist/autoencoder_with_label.h/assets\n"
     ]
    }
   ],
   "source": [
    "autoencoder.save(\"models/mnist/autoencoder_with_label.h\")"
   ]
  },
  {
   "cell_type": "code",
   "execution_count": 42,
   "metadata": {},
   "outputs": [],
   "source": [
    "new_autoenc=load_model(\"models/mnist/autoencoder_with_label.h/\")"
   ]
  },
  {
   "cell_type": "code",
   "execution_count": 43,
   "metadata": {},
   "outputs": [
    {
     "data": {
      "image/png": "[encoded data removed]",
      "text/plain": [
       "<Figure size 1440x288 with 20 Axes>"
      ]
     },
     "metadata": {
      "needs_background": "light"
     },
     "output_type": "display_data"
    }
   ],
   "source": [
    "decoded_imgs = new_autoenc.predict(x_test_left)\n",
    "\n",
    "n = 10\n",
    "plt.figure(figsize=(20, 4))\n",
    "for i in range(1, n + 1):\n",
    "    # Display original\n",
    "    ax = plt.subplot(2, n, i)\n",
    "    plt.imshow(x_test_right[i].reshape(30, 30))\n",
    "    plt.gray()\n",
    "    ax.get_xaxis().set_visible(False)\n",
    "    ax.get_yaxis().set_visible(False)\n",
    "\n",
    "    # Display reconstruction\n",
    "    ax = plt.subplot(2, n, i + n)\n",
    "    plt.imshow(decoded_imgs[i].reshape(30, 30))\n",
    "    plt.gray()\n",
    "    ax.get_xaxis().set_visible(False)\n",
    "    ax.get_yaxis().set_visible(False)\n",
    "plt.show()\n"
   ]
  },
  {
   "cell_type": "markdown",
   "metadata": {},
   "source": [
    "### 03 Extract features and test with LogReg"
   ]
  },
  {
   "cell_type": "code",
   "execution_count": 44,
   "metadata": {},
   "outputs": [],
   "source": [
    "encoder = Model(inputs=input_img, outputs=encoded)\n",
    "encoder.save('models/mnist/encoder_with_label.h5')"
   ]
  },
  {
   "cell_type": "code",
   "execution_count": 57,
   "metadata": {},
   "outputs": [],
   "source": [
    "def flatten_encoded_images_for_logreg(X_array):\n",
    "    print(X_array.shape)\n",
    "    X_array_flattened=[]\n",
    "    for i in range(X_array.shape[0]):\n",
    "        X_array_flattened.append(X_array[i].flatten())\n",
    "    X_array_flattened=np.array(X_array_flattened)\n",
    "    print(\"Shape is \",X_array_flattened.shape)\n",
    "    return X_array_flattened"
   ]
  },
  {
   "cell_type": "code",
   "execution_count": null,
   "metadata": {},
   "outputs": [],
   "source": []
  },
  {
   "cell_type": "code",
   "execution_count": 59,
   "metadata": {},
   "outputs": [
    {
     "name": "stdout",
     "output_type": "stream",
     "text": [
      "WARNING:tensorflow:No training configuration found in the save file, so the model was *not* compiled. Compile it manually.\n",
      "(60000, 5, 5, 8)\n",
      "Shape is  (60000, 200)\n",
      "Shape of encoded flat (60000, 200)\n",
      "(10000, 5, 5, 8)\n",
      "Shape is  (10000, 200)\n",
      "Shape of encoded flat (10000, 5, 5, 8)\n",
      "0.9466\n"
     ]
    },
    {
     "name": "stderr",
     "output_type": "stream",
     "text": [
      "/lustre/gfxhome/asislam25/.conda/envs/venv_vasic_gpu/lib/python3.6/site-packages/sklearn/linear_model/_logistic.py:764: ConvergenceWarning: lbfgs failed to converge (status=1):\n",
      "STOP: TOTAL NO. of ITERATIONS REACHED LIMIT.\n",
      "\n",
      "Increase the number of iterations (max_iter) or scale the data as shown in:\n",
      "    https://scikit-learn.org/stable/modules/preprocessing.html\n",
      "Please also refer to the documentation for alternative solver options:\n",
      "    https://scikit-learn.org/stable/modules/linear_model.html#logistic-regression\n",
      "  extra_warning_msg=_LOGISTIC_SOLVER_CONVERGENCE_MSG)\n"
     ]
    }
   ],
   "source": [
    "# load the model from file\n",
    "encoder = load_model('models/mnist/encoder_with_label.h5')\n",
    "# encode the train data\n",
    "x_train_encode = encoder.predict(x_train_left)\n",
    "x_train_encode_flat=flatten_encoded_images_for_logreg(x_train_encode)\n",
    "\n",
    "# x_train_encode=x_train_encode.flatten()\n",
    "print(\"Shape of encoded flat\",x_train_encode_flat.shape)\n",
    "# encode the test data\n",
    "x_test_encode = encoder.predict(x_test_left)\n",
    "x_test_encode_flat=flatten_encoded_images_for_logreg(x_test_encode)\n",
    "print(\"Shape of encoded flat\",x_test_encode.shape)\n",
    "\n"
   ]
  },
  {
   "cell_type": "code",
   "execution_count": 61,
   "metadata": {},
   "outputs": [
    {
     "name": "stdout",
     "output_type": "stream",
     "text": [
      "0.9466\n"
     ]
    },
    {
     "name": "stderr",
     "output_type": "stream",
     "text": [
      "/lustre/gfxhome/asislam25/.conda/envs/venv_vasic_gpu/lib/python3.6/site-packages/sklearn/linear_model/_logistic.py:764: ConvergenceWarning: lbfgs failed to converge (status=1):\n",
      "STOP: TOTAL NO. of ITERATIONS REACHED LIMIT.\n",
      "\n",
      "Increase the number of iterations (max_iter) or scale the data as shown in:\n",
      "    https://scikit-learn.org/stable/modules/preprocessing.html\n",
      "Please also refer to the documentation for alternative solver options:\n",
      "    https://scikit-learn.org/stable/modules/linear_model.html#logistic-regression\n",
      "  extra_warning_msg=_LOGISTIC_SOLVER_CONVERGENCE_MSG)\n"
     ]
    }
   ],
   "source": [
    "# define the model\n",
    "model = LogisticRegression()\n",
    "# fit the model on the training set\n",
    "model.fit(x_train_encode_flat, y_train)\n",
    "# make predictions on the test set\n",
    "yhat = model.predict(x_test_encode_flat)\n",
    "# calculate classification accuracy\n",
    "acc = accuracy_score(y_test, yhat)\n",
    "print(acc)"
   ]
  },
  {
   "cell_type": "markdown",
   "metadata": {},
   "source": [
    "### 04 Extract features and Test with a CNN"
   ]
  },
  {
   "cell_type": "code",
   "execution_count": 81,
   "metadata": {},
   "outputs": [],
   "source": [
    "# https://towardsdatascience.com/building-a-convolutional-neural-network-cnn-in-keras-329fbbadc5f5"
   ]
  },
  {
   "cell_type": "markdown",
   "metadata": {},
   "source": [
    "#### 04a Convert y values to categorical"
   ]
  },
  {
   "cell_type": "code",
   "execution_count": 72,
   "metadata": {},
   "outputs": [
    {
     "name": "stdout",
     "output_type": "stream",
     "text": [
      "(60000, 10) (10000, 10)\n"
     ]
    }
   ],
   "source": [
    "#one-hot encode target column\n",
    "y_train_one_hot = to_categorical(y_train)\n",
    "y_test_one_hot = to_categorical(y_test)\n",
    "print(y_train_one_hot.shape,y_test_one_hot.shape)"
   ]
  },
  {
   "cell_type": "markdown",
   "metadata": {},
   "source": [
    "#### 04b Extract features using encoder"
   ]
  },
  {
   "cell_type": "code",
   "execution_count": 63,
   "metadata": {},
   "outputs": [
    {
     "name": "stdout",
     "output_type": "stream",
     "text": [
      "WARNING:tensorflow:No training configuration found in the save file, so the model was *not* compiled. Compile it manually.\n",
      "Shape of training encoded images (60000, 5, 5, 8)\n",
      "Shape of testing encoded images (10000, 5, 5, 8)\n"
     ]
    }
   ],
   "source": [
    "# load the model from file\n",
    "encoder = load_model('models/mnist/encoder_with_label.h5')\n",
    "# encode the train data\n",
    "x_train_encode = encoder.predict(x_train_left)\n",
    "print(\"Shape of training encoded images\",x_train_encode.shape)\n",
    "\n",
    "# encode the test data\n",
    "x_test_encode = encoder.predict(x_test_left)\n",
    "print(\"Shape of testing encoded images\",x_test_encode.shape)\n"
   ]
  },
  {
   "cell_type": "code",
   "execution_count": 64,
   "metadata": {},
   "outputs": [
    {
     "name": "stdout",
     "output_type": "stream",
     "text": [
      "(5, 5, 8) (5, 5, 8)\n"
     ]
    }
   ],
   "source": [
    "print(x_train_encode[0].shape,x_test_encode[1].shape)"
   ]
  },
  {
   "cell_type": "markdown",
   "metadata": {},
   "source": [
    "### 04c create a CNN that takes encoded image as input"
   ]
  },
  {
   "cell_type": "code",
   "execution_count": 84,
   "metadata": {},
   "outputs": [
    {
     "name": "stdout",
     "output_type": "stream",
     "text": [
      "313/313 [==============================] - 0s 710us/step - loss: 0.0904 - accuracy: 0.9819\n",
      "Accuracy is  0.9818999767303467\n"
     ]
    }
   ],
   "source": [
    "# define a CNN to make the predictions\n",
    "#create model\n",
    "model = Sequential()#add model layers\n",
    "model.add(Conv2D(64, kernel_size=2, activation='relu', input_shape=x_train_encode[0].shape))\n",
    "model.add(Conv2D(32, kernel_size=3, activation='relu'))\n",
    "model.add(Flatten())\n",
    "model.add(Dense(10, activation='softmax'))\n",
    "\n",
    "#compile model using accuracy to measure model performance\n",
    "model.compile(optimizer='adam', loss='categorical_crossentropy', metrics=['accuracy'])\n",
    "#train the model\n",
    "num_epochs=50\n",
    "history=model.fit(x_train_encode, y_train_one_hot, validation_data=(x_test_encode, y_test_one_hot), epochs=num_epochs,verbose=0)\n",
    "\n",
    "loss,acc=model.evaluate(x_test_encode, y_test_one_hot)\n",
    "print(\"Accuracy is \",acc)\n",
    "\n"
   ]
  },
  {
   "cell_type": "code",
   "execution_count": 85,
   "metadata": {},
   "outputs": [],
   "source": [
    "import matplotlib.pyplot as plt\n",
    "\n",
    "plt.plot(history.history['accuracy'])\n",
    "plt.plot(history.history['val_accuracy'])\n",
    "plt.title('model accuracy')\n",
    "plt.ylabel('accuracy')\n",
    "plt.xlabel('epoch')\n",
    "plt.legend(['train', 'test'], loc='upper left')\n",
    "plt.show()"
   ]
  },
  {
   "cell_type": "code",
   "execution_count": 86,
   "metadata": {},
   "outputs": [
    {
     "data": {
      "image/png": "[encoded data removed]",
      "text/plain": [
       "<Figure size 432x288 with 1 Axes>"
      ]
     },
     "metadata": {
      "needs_background": "light"
     },
     "output_type": "display_data"
    }
   ],
   "source": []
  },
  {
   "cell_type": "code",
   "execution_count": null,
   "metadata": {},
   "outputs": [],
   "source": []
  },
  {
   "cell_type": "code",
   "execution_count": null,
   "metadata": {},
   "outputs": [],
   "source": []
  }
 ],
 "metadata": {
  "kernelspec": {
   "display_name": "Python 3",
   "language": "python",
   "name": "python3"
  },
  "language_info": {
   "codemirror_mode": {
    "name": "ipython",
    "version": 3
   },
   "file_extension": ".py",
   "mimetype": "text/x-python",
   "name": "python",
   "nbconvert_exporter": "python",
   "pygments_lexer": "ipython3",
   "version": "3.6.10"
  }
 },
 "nbformat": 4,
 "nbformat_minor": 4
}
