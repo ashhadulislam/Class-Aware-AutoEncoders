{
 "cells": [
  {
   "cell_type": "code",
   "execution_count": null,
   "metadata": {
    "id": "-OmhIgePt-57"
   },
   "outputs": [],
   "source": [
    "# https://blog.keras.io/building-autoencoders-in-keras.html"
   ]
  },
  {
   "cell_type": "code",
   "execution_count": null,
   "metadata": {
    "id": "o3Lcg_G-t-6F"
   },
   "outputs": [],
   "source": [
    "'''\n",
    "this one is simple auto encoder, without padding\n",
    "'''"
   ]
  },
  {
   "cell_type": "code",
   "execution_count": null,
   "metadata": {},
   "outputs": [],
   "source": [
    "import os"
   ]
  },
  {
   "cell_type": "code",
   "execution_count": null,
   "metadata": {
    "colab": {
     "base_uri": "https://localhost:8080/"
    },
    "executionInfo": {
     "elapsed": 25950,
     "status": "ok",
     "timestamp": 1616844623770,
     "user": {
      "displayName": "ashhadul islam",
      "photoUrl": "https://lh3.googleusercontent.com/a-/AOh14GgxgsFS_X9prtZXhkrytzUHFBW_a3K5S2EVFnQ9Ew=s64",
      "userId": "15870531044939576267"
     },
     "user_tz": -180
    },
    "id": "_7X22jkDuNe-",
    "outputId": "0d1b855d-570b-4bd7-a826-e09d358f5c92"
   },
   "outputs": [],
   "source": [
    "# from google.colab import drive\n",
    "# drive.mount('/content/gdrive')\n",
    "\n",
    "# root_path = r'gdrive/My Drive/work/research/AutoEncoder_classification/'  #change dir to your project folder\n",
    "\n",
    "# os.chdir(root_path)"
   ]
  },
  {
   "cell_type": "code",
   "execution_count": 42,
   "metadata": {
    "executionInfo": {
     "elapsed": 29006,
     "status": "ok",
     "timestamp": 1616844627431,
     "user": {
      "displayName": "ashhadul islam",
      "photoUrl": "https://lh3.googleusercontent.com/a-/AOh14GgxgsFS_X9prtZXhkrytzUHFBW_a3K5S2EVFnQ9Ew=s64",
      "userId": "15870531044939576267"
     },
     "user_tz": -180
    },
    "id": "sJ7sPaont-6H"
   },
   "outputs": [],
   "source": [
    "from tensorflow.keras.datasets import cifar10\n",
    "\n",
    "import numpy as np\n",
    "\n",
    "from tensorflow import keras\n",
    "from tensorflow.keras import layers\n",
    "from tensorflow.keras.utils import to_categorical\n",
    "from tensorflow.keras.models import Sequential\n",
    "from tensorflow.keras.layers import Conv2D, Dropout\n",
    "from tensorflow.keras.layers import MaxPooling2D, MaxPool2D\n",
    "from tensorflow.keras.layers import Dense\n",
    "from tensorflow.keras.layers import Flatten\n",
    "from tensorflow.keras.models import Model\n",
    "from tensorflow.keras.optimizers import SGD\n",
    "from tensorflow.keras.models import load_model\n",
    "from sklearn.metrics import precision_recall_fscore_support\n",
    "from tensorflow.keras.callbacks import ModelCheckpoint\n",
    "\n",
    "from sklearn.linear_model import LogisticRegression\n",
    "from sklearn.metrics import accuracy_score"
   ]
  },
  {
   "cell_type": "code",
   "execution_count": 3,
   "metadata": {
    "executionInfo": {
     "elapsed": 1952,
     "status": "ok",
     "timestamp": 1616844629391,
     "user": {
      "displayName": "ashhadul islam",
      "photoUrl": "https://lh3.googleusercontent.com/a-/AOh14GgxgsFS_X9prtZXhkrytzUHFBW_a3K5S2EVFnQ9Ew=s64",
      "userId": "15870531044939576267"
     },
     "user_tz": -180
    },
    "id": "jwkCBjEGt-6I"
   },
   "outputs": [],
   "source": [
    "import matplotlib.pyplot as plt\n",
    "import cv2"
   ]
  },
  {
   "cell_type": "markdown",
   "metadata": {
    "id": "eiboMAm3t-6I"
   },
   "source": [
    "### 01 Get the data"
   ]
  },
  {
   "cell_type": "code",
   "execution_count": 10,
   "metadata": {
    "colab": {
     "base_uri": "https://localhost:8080/"
    },
    "executionInfo": {
     "elapsed": 7594,
     "status": "ok",
     "timestamp": 1616844635040,
     "user": {
      "displayName": "ashhadul islam",
      "photoUrl": "https://lh3.googleusercontent.com/a-/AOh14GgxgsFS_X9prtZXhkrytzUHFBW_a3K5S2EVFnQ9Ew=s64",
      "userId": "15870531044939576267"
     },
     "user_tz": -180
    },
    "id": "h9SbxSBwt-6J",
    "outputId": "9e6f0754-75b8-4ed7-e3ef-4ef98b36acb4"
   },
   "outputs": [
    {
     "name": "stdout",
     "output_type": "stream",
     "text": [
      "(50000, 32, 32)\n"
     ]
    }
   ],
   "source": [
    "(x_train, y_train), (x_test, y_test) = cifar10.load_data()\n",
    "\n",
    "x_train = np.array([cv2.cvtColor(image, cv2.COLOR_BGR2GRAY) for image in x_train])\n",
    "x_test = np.array([cv2.cvtColor(image, cv2.COLOR_BGR2GRAY) for image in x_test])\n",
    "\n",
    "print(x_train.shape)\n",
    "\n",
    "x_train = x_train.astype('float32') / 255.\n",
    "rows=x_train.shape[1]\n",
    "cols=x_train.shape[2]\n",
    "x_train=x_train.reshape(len(x_train),rows,cols,1)\n",
    "\n",
    "x_test = x_test.astype('float32') / 255.\n",
    "rows=x_test.shape[1]\n",
    "cols=x_test.shape[2]\n",
    "x_test=x_test.reshape(len(x_test),rows,cols,1)\n"
   ]
  },
  {
   "cell_type": "code",
   "execution_count": 11,
   "metadata": {
    "colab": {
     "base_uri": "https://localhost:8080/"
    },
    "executionInfo": {
     "elapsed": 7591,
     "status": "ok",
     "timestamp": 1616844635042,
     "user": {
      "displayName": "ashhadul islam",
      "photoUrl": "https://lh3.googleusercontent.com/a-/AOh14GgxgsFS_X9prtZXhkrytzUHFBW_a3K5S2EVFnQ9Ew=s64",
      "userId": "15870531044939576267"
     },
     "user_tz": -180
    },
    "id": "li3jwlSft-6K",
    "outputId": "1a6c2da5-a586-41b6-ef24-4151165e84b1"
   },
   "outputs": [
    {
     "name": "stdout",
     "output_type": "stream",
     "text": [
      "(50000, 32, 32, 1) (50000, 1)\n",
      "(10000, 32, 32, 1) (10000, 1)\n"
     ]
    }
   ],
   "source": [
    "print(x_train.shape,y_train.shape)\n",
    "print(x_test.shape,y_test.shape)"
   ]
  },
  {
   "cell_type": "markdown",
   "metadata": {
    "id": "3uheQLY_t-6M"
   },
   "source": [
    "### 02 Create and train the model"
   ]
  },
  {
   "cell_type": "code",
   "execution_count": 16,
   "metadata": {
    "id": "NgumqOwpt-6M"
   },
   "outputs": [],
   "source": [
    "input_img = keras.Input(shape=x_train[0].shape)\n",
    "\n",
    "\n",
    "\n",
    "\n",
    "\n",
    "x = layers.Conv2D(16, (3, 3), activation='relu', padding='same')(input_img)\n",
    "x = layers.MaxPooling2D((2, 2), padding='same')(x)\n",
    "x = layers.Conv2D(8, (3, 3), activation='relu', padding='same')(x)\n",
    "\n",
    "encoded = layers.MaxPooling2D((2, 2), padding='same')(x)\n",
    "\n",
    "x = layers.Conv2D(8, (3, 3), activation='relu', padding='same')(encoded)\n",
    "x = layers.UpSampling2D((2, 2))(x)\n",
    "x = layers.Conv2D(16, (3, 3), activation='relu',padding='same')(x)\n",
    "x = layers.UpSampling2D((2, 2))(x)\n",
    "\n",
    "decoded = layers.Conv2D(1, (3, 3), activation='sigmoid', padding='same')(x)\n",
    "\n",
    "autoencoder = keras.Model(input_img, decoded)\n",
    "autoencoder.compile(optimizer='adam', loss='binary_crossentropy')"
   ]
  },
  {
   "cell_type": "code",
   "execution_count": 17,
   "metadata": {
    "id": "7Qh8wtGct-6M"
   },
   "outputs": [
    {
     "name": "stdout",
     "output_type": "stream",
     "text": [
      "Model: \"model_2\"\n",
      "_________________________________________________________________\n",
      "Layer (type)                 Output Shape              Param #   \n",
      "=================================================================\n",
      "input_5 (InputLayer)         [(None, 32, 32, 1)]       0         \n",
      "_________________________________________________________________\n",
      "conv2d_14 (Conv2D)           (None, 32, 32, 16)        160       \n",
      "_________________________________________________________________\n",
      "max_pooling2d_5 (MaxPooling2 (None, 16, 16, 16)        0         \n",
      "_________________________________________________________________\n",
      "conv2d_15 (Conv2D)           (None, 16, 16, 8)         1160      \n",
      "_________________________________________________________________\n",
      "max_pooling2d_6 (MaxPooling2 (None, 8, 8, 8)           0         \n",
      "_________________________________________________________________\n",
      "conv2d_16 (Conv2D)           (None, 8, 8, 8)           584       \n",
      "_________________________________________________________________\n",
      "up_sampling2d_5 (UpSampling2 (None, 16, 16, 8)         0         \n",
      "_________________________________________________________________\n",
      "conv2d_17 (Conv2D)           (None, 16, 16, 16)        1168      \n",
      "_________________________________________________________________\n",
      "up_sampling2d_6 (UpSampling2 (None, 32, 32, 16)        0         \n",
      "_________________________________________________________________\n",
      "conv2d_18 (Conv2D)           (None, 32, 32, 1)         145       \n",
      "=================================================================\n",
      "Total params: 3,217\n",
      "Trainable params: 3,217\n",
      "Non-trainable params: 0\n",
      "_________________________________________________________________\n"
     ]
    }
   ],
   "source": [
    "autoencoder.summary()"
   ]
  },
  {
   "cell_type": "code",
   "execution_count": 19,
   "metadata": {
    "id": "fI3h0pFDt-6O",
    "scrolled": true
   },
   "outputs": [
    {
     "name": "stdout",
     "output_type": "stream",
     "text": [
      "Epoch 1/100\n",
      "391/391 [==============================] - 16s 40ms/step - loss: 0.5716 - val_loss: 0.5723\n",
      "Epoch 2/100\n",
      "391/391 [==============================] - 15s 39ms/step - loss: 0.5712 - val_loss: 0.5719\n",
      "Epoch 3/100\n",
      "391/391 [==============================] - 15s 40ms/step - loss: 0.5709 - val_loss: 0.5716\n",
      "Epoch 4/100\n",
      "391/391 [==============================] - 16s 40ms/step - loss: 0.5706 - val_loss: 0.5715\n",
      "Epoch 5/100\n",
      "391/391 [==============================] - 16s 40ms/step - loss: 0.5704 - val_loss: 0.5712\n",
      "Epoch 6/100\n",
      "391/391 [==============================] - 15s 39ms/step - loss: 0.5701 - val_loss: 0.5709\n",
      "Epoch 7/100\n",
      "391/391 [==============================] - 16s 40ms/step - loss: 0.5699 - val_loss: 0.5707\n",
      "Epoch 8/100\n",
      "391/391 [==============================] - 15s 39ms/step - loss: 0.5698 - val_loss: 0.5707\n",
      "Epoch 9/100\n",
      "391/391 [==============================] - 15s 39ms/step - loss: 0.5696 - val_loss: 0.5707\n",
      "Epoch 10/100\n",
      "391/391 [==============================] - 15s 39ms/step - loss: 0.5695 - val_loss: 0.5702\n",
      "Epoch 11/100\n",
      "391/391 [==============================] - 15s 39ms/step - loss: 0.5694 - val_loss: 0.5701\n",
      "Epoch 12/100\n",
      "391/391 [==============================] - 16s 40ms/step - loss: 0.5692 - val_loss: 0.5700\n",
      "Epoch 13/100\n",
      "391/391 [==============================] - 16s 40ms/step - loss: 0.5691 - val_loss: 0.5699\n",
      "Epoch 14/100\n",
      "391/391 [==============================] - 15s 39ms/step - loss: 0.5690 - val_loss: 0.5700\n",
      "Epoch 15/100\n",
      "391/391 [==============================] - 15s 39ms/step - loss: 0.5689 - val_loss: 0.5698\n",
      "Epoch 16/100\n",
      "391/391 [==============================] - 16s 41ms/step - loss: 0.5688 - val_loss: 0.5696\n",
      "Epoch 17/100\n",
      "391/391 [==============================] - 16s 41ms/step - loss: 0.5687 - val_loss: 0.5695\n",
      "Epoch 18/100\n",
      "391/391 [==============================] - 15s 40ms/step - loss: 0.5687 - val_loss: 0.5695\n",
      "Epoch 19/100\n",
      "391/391 [==============================] - 16s 41ms/step - loss: 0.5686 - val_loss: 0.5694\n",
      "Epoch 20/100\n",
      "391/391 [==============================] - 16s 42ms/step - loss: 0.5685 - val_loss: 0.5694\n",
      "Epoch 21/100\n",
      "391/391 [==============================] - 16s 41ms/step - loss: 0.5684 - val_loss: 0.5692\n",
      "Epoch 22/100\n",
      "391/391 [==============================] - 16s 41ms/step - loss: 0.5684 - val_loss: 0.5692\n",
      "Epoch 23/100\n",
      "391/391 [==============================] - 16s 41ms/step - loss: 0.5683 - val_loss: 0.5692\n",
      "Epoch 24/100\n",
      "391/391 [==============================] - 16s 41ms/step - loss: 0.5683 - val_loss: 0.5692\n",
      "Epoch 25/100\n",
      "391/391 [==============================] - 16s 41ms/step - loss: 0.5682 - val_loss: 0.5691\n",
      "Epoch 26/100\n",
      "391/391 [==============================] - 16s 40ms/step - loss: 0.5682 - val_loss: 0.5691\n",
      "Epoch 27/100\n",
      "391/391 [==============================] - 16s 40ms/step - loss: 0.5681 - val_loss: 0.5690\n",
      "Epoch 28/100\n",
      "391/391 [==============================] - 16s 41ms/step - loss: 0.5681 - val_loss: 0.5690\n",
      "Epoch 29/100\n",
      "391/391 [==============================] - 16s 40ms/step - loss: 0.5680 - val_loss: 0.5688\n",
      "Epoch 30/100\n",
      "391/391 [==============================] - 16s 41ms/step - loss: 0.5680 - val_loss: 0.5689\n",
      "Epoch 31/100\n",
      "391/391 [==============================] - 16s 41ms/step - loss: 0.5680 - val_loss: 0.5688\n",
      "Epoch 32/100\n",
      "391/391 [==============================] - 16s 41ms/step - loss: 0.5679 - val_loss: 0.5688\n",
      "Epoch 33/100\n",
      "391/391 [==============================] - 16s 40ms/step - loss: 0.5679 - val_loss: 0.5689\n",
      "Epoch 34/100\n",
      "391/391 [==============================] - 16s 40ms/step - loss: 0.5679 - val_loss: 0.5687\n",
      "Epoch 35/100\n",
      "391/391 [==============================] - 16s 41ms/step - loss: 0.5678 - val_loss: 0.5688\n",
      "Epoch 36/100\n",
      "391/391 [==============================] - 16s 40ms/step - loss: 0.5678 - val_loss: 0.5686\n",
      "Epoch 37/100\n",
      "391/391 [==============================] - 16s 41ms/step - loss: 0.5678 - val_loss: 0.5687\n",
      "Epoch 38/100\n",
      "391/391 [==============================] - 16s 41ms/step - loss: 0.5677 - val_loss: 0.5686\n",
      "Epoch 39/100\n",
      "391/391 [==============================] - 16s 41ms/step - loss: 0.5677 - val_loss: 0.5686\n",
      "Epoch 40/100\n",
      "391/391 [==============================] - 16s 40ms/step - loss: 0.5677 - val_loss: 0.5685\n",
      "Epoch 41/100\n",
      "391/391 [==============================] - 16s 40ms/step - loss: 0.5677 - val_loss: 0.5686\n",
      "Epoch 42/100\n",
      "391/391 [==============================] - 16s 40ms/step - loss: 0.5676 - val_loss: 0.5685\n",
      "Epoch 43/100\n",
      "391/391 [==============================] - 16s 40ms/step - loss: 0.5676 - val_loss: 0.5685\n",
      "Epoch 44/100\n",
      "391/391 [==============================] - 15s 40ms/step - loss: 0.5676 - val_loss: 0.5684\n",
      "Epoch 45/100\n",
      "391/391 [==============================] - 16s 41ms/step - loss: 0.5676 - val_loss: 0.5684\n",
      "Epoch 46/100\n",
      "391/391 [==============================] - 16s 41ms/step - loss: 0.5675 - val_loss: 0.5684\n",
      "Epoch 47/100\n",
      "391/391 [==============================] - 16s 41ms/step - loss: 0.5675 - val_loss: 0.5683\n",
      "Epoch 48/100\n",
      "391/391 [==============================] - 16s 41ms/step - loss: 0.5675 - val_loss: 0.5683\n",
      "Epoch 49/100\n",
      "391/391 [==============================] - 16s 40ms/step - loss: 0.5675 - val_loss: 0.5683\n",
      "Epoch 50/100\n",
      "391/391 [==============================] - 16s 41ms/step - loss: 0.5674 - val_loss: 0.5683\n",
      "Epoch 51/100\n",
      "391/391 [==============================] - 16s 40ms/step - loss: 0.5674 - val_loss: 0.5683\n",
      "Epoch 52/100\n",
      "391/391 [==============================] - 16s 41ms/step - loss: 0.5674 - val_loss: 0.5684\n",
      "Epoch 53/100\n",
      "391/391 [==============================] - 15s 39ms/step - loss: 0.5674 - val_loss: 0.5683\n",
      "Epoch 54/100\n",
      "391/391 [==============================] - 15s 39ms/step - loss: 0.5674 - val_loss: 0.5683\n",
      "Epoch 55/100\n",
      "391/391 [==============================] - 15s 39ms/step - loss: 0.5674 - val_loss: 0.5685\n",
      "Epoch 56/100\n",
      "391/391 [==============================] - 16s 40ms/step - loss: 0.5673 - val_loss: 0.5683\n",
      "Epoch 57/100\n",
      "391/391 [==============================] - 16s 41ms/step - loss: 0.5673 - val_loss: 0.5687\n",
      "Epoch 58/100\n",
      "391/391 [==============================] - 16s 40ms/step - loss: 0.5673 - val_loss: 0.5682\n",
      "Epoch 59/100\n",
      "391/391 [==============================] - 16s 40ms/step - loss: 0.5673 - val_loss: 0.5681\n",
      "Epoch 60/100\n",
      "391/391 [==============================] - 16s 41ms/step - loss: 0.5673 - val_loss: 0.5681\n",
      "Epoch 61/100\n",
      "391/391 [==============================] - 16s 40ms/step - loss: 0.5672 - val_loss: 0.5683\n",
      "Epoch 62/100\n",
      "391/391 [==============================] - 15s 39ms/step - loss: 0.5672 - val_loss: 0.5681\n",
      "Epoch 63/100\n",
      "391/391 [==============================] - 16s 40ms/step - loss: 0.5672 - val_loss: 0.5680\n",
      "Epoch 64/100\n",
      "391/391 [==============================] - 16s 40ms/step - loss: 0.5672 - val_loss: 0.5683\n",
      "Epoch 65/100\n",
      "391/391 [==============================] - 15s 39ms/step - loss: 0.5672 - val_loss: 0.5680\n",
      "Epoch 66/100\n",
      "391/391 [==============================] - 16s 40ms/step - loss: 0.5672 - val_loss: 0.5680\n",
      "Epoch 67/100\n",
      "391/391 [==============================] - 15s 40ms/step - loss: 0.5671 - val_loss: 0.5681\n",
      "Epoch 68/100\n",
      "391/391 [==============================] - 15s 39ms/step - loss: 0.5671 - val_loss: 0.5680\n",
      "Epoch 69/100\n",
      "391/391 [==============================] - 16s 40ms/step - loss: 0.5671 - val_loss: 0.5680\n",
      "Epoch 70/100\n",
      "391/391 [==============================] - 13s 33ms/step - loss: 0.5671 - val_loss: 0.5683\n",
      "Epoch 71/100\n",
      "391/391 [==============================] - 12s 29ms/step - loss: 0.5671 - val_loss: 0.5682\n",
      "Epoch 72/100\n",
      "391/391 [==============================] - 11s 28ms/step - loss: 0.5671 - val_loss: 0.5680\n",
      "Epoch 73/100\n",
      "391/391 [==============================] - 11s 28ms/step - loss: 0.5671 - val_loss: 0.5679\n",
      "Epoch 74/100\n",
      "391/391 [==============================] - 11s 29ms/step - loss: 0.5671 - val_loss: 0.5680\n",
      "Epoch 75/100\n",
      "391/391 [==============================] - 11s 29ms/step - loss: 0.5670 - val_loss: 0.5681\n",
      "Epoch 76/100\n",
      "391/391 [==============================] - 11s 28ms/step - loss: 0.5670 - val_loss: 0.5680\n",
      "Epoch 77/100\n",
      "391/391 [==============================] - 11s 27ms/step - loss: 0.5670 - val_loss: 0.5680\n",
      "Epoch 78/100\n",
      "391/391 [==============================] - 11s 28ms/step - loss: 0.5670 - val_loss: 0.5679\n",
      "Epoch 79/100\n",
      "391/391 [==============================] - 11s 28ms/step - loss: 0.5670 - val_loss: 0.5678\n"
     ]
    },
    {
     "name": "stdout",
     "output_type": "stream",
     "text": [
      "Epoch 80/100\n",
      "391/391 [==============================] - 11s 27ms/step - loss: 0.5670 - val_loss: 0.5678\n",
      "Epoch 81/100\n",
      "391/391 [==============================] - 11s 29ms/step - loss: 0.5669 - val_loss: 0.5678\n",
      "Epoch 82/100\n",
      "391/391 [==============================] - 11s 28ms/step - loss: 0.5669 - val_loss: 0.5678\n",
      "Epoch 83/100\n",
      "391/391 [==============================] - 11s 28ms/step - loss: 0.5669 - val_loss: 0.5679\n",
      "Epoch 84/100\n",
      "391/391 [==============================] - 11s 28ms/step - loss: 0.5669 - val_loss: 0.5678\n",
      "Epoch 85/100\n",
      "391/391 [==============================] - 11s 27ms/step - loss: 0.5669 - val_loss: 0.5678\n",
      "Epoch 86/100\n",
      "391/391 [==============================] - 11s 28ms/step - loss: 0.5669 - val_loss: 0.5678\n",
      "Epoch 87/100\n",
      "391/391 [==============================] - 11s 27ms/step - loss: 0.5669 - val_loss: 0.5677\n",
      "Epoch 88/100\n",
      "391/391 [==============================] - 11s 28ms/step - loss: 0.5669 - val_loss: 0.5677\n",
      "Epoch 89/100\n",
      "391/391 [==============================] - 11s 28ms/step - loss: 0.5668 - val_loss: 0.5677\n",
      "Epoch 90/100\n",
      "391/391 [==============================] - 11s 28ms/step - loss: 0.5668 - val_loss: 0.5677\n",
      "Epoch 91/100\n",
      "391/391 [==============================] - 11s 27ms/step - loss: 0.5668 - val_loss: 0.5677\n",
      "Epoch 92/100\n",
      "391/391 [==============================] - 11s 28ms/step - loss: 0.5668 - val_loss: 0.5678\n",
      "Epoch 93/100\n",
      "391/391 [==============================] - 11s 28ms/step - loss: 0.5668 - val_loss: 0.5680\n",
      "Epoch 94/100\n",
      "391/391 [==============================] - 11s 28ms/step - loss: 0.5668 - val_loss: 0.5679\n",
      "Epoch 95/100\n",
      "391/391 [==============================] - 11s 28ms/step - loss: 0.5668 - val_loss: 0.5676\n",
      "Epoch 96/100\n",
      "391/391 [==============================] - 11s 28ms/step - loss: 0.5668 - val_loss: 0.5677\n",
      "Epoch 97/100\n",
      "391/391 [==============================] - 11s 28ms/step - loss: 0.5668 - val_loss: 0.5676\n",
      "Epoch 98/100\n",
      "391/391 [==============================] - 11s 28ms/step - loss: 0.5668 - val_loss: 0.5676\n",
      "Epoch 99/100\n",
      "391/391 [==============================] - 11s 28ms/step - loss: 0.5668 - val_loss: 0.5676\n",
      "Epoch 100/100\n",
      "391/391 [==============================] - 13s 32ms/step - loss: 0.5667 - val_loss: 0.5677\n"
     ]
    }
   ],
   "source": [
    "history=autoencoder.fit(x_train, x_train,\n",
    "                epochs=100,\n",
    "                batch_size=128,\n",
    "                shuffle=True,\n",
    "                validation_data=(x_test, x_test))\n"
   ]
  },
  {
   "cell_type": "code",
   "execution_count": 20,
   "metadata": {
    "id": "V96eB_bet-6P"
   },
   "outputs": [
    {
     "data": {
      "image/png": "[encoded data removed]",
      "text/plain": [
       "<Figure size 1440x288 with 20 Axes>"
      ]
     },
     "metadata": {
      "needs_background": "light"
     },
     "output_type": "display_data"
    }
   ],
   "source": [
    "decoded_imgs = autoencoder.predict(x_test)\n",
    "\n",
    "n = 10\n",
    "plt.figure(figsize=(20, 4))\n",
    "for i in range(1, n + 1):\n",
    "    # Display original\n",
    "    ax = plt.subplot(2, n, i)\n",
    "    plt.imshow(x_test[i])\n",
    "    plt.gray()\n",
    "    ax.get_xaxis().set_visible(False)\n",
    "    ax.get_yaxis().set_visible(False)\n",
    "\n",
    "    # Display reconstruction\n",
    "    ax = plt.subplot(2, n, i + n)\n",
    "    plt.imshow(decoded_imgs[i])\n",
    "    plt.gray()\n",
    "    ax.get_xaxis().set_visible(False)\n",
    "    ax.get_yaxis().set_visible(False)\n",
    "plt.show()\n"
   ]
  },
  {
   "cell_type": "code",
   "execution_count": 21,
   "metadata": {
    "id": "SSggUxBOt-6R"
   },
   "outputs": [
    {
     "name": "stdout",
     "output_type": "stream",
     "text": [
      "INFO:tensorflow:Assets written to: models/autoenc_simple.h/assets\n"
     ]
    }
   ],
   "source": [
    "autoencoder.save(\"models/autoenc_simple.h\")"
   ]
  },
  {
   "cell_type": "code",
   "execution_count": 22,
   "metadata": {
    "id": "j4IO1HZ4t-6R"
   },
   "outputs": [
    {
     "data": {
      "text/plain": [
       "array([3], dtype=uint8)"
      ]
     },
     "execution_count": 22,
     "metadata": {},
     "output_type": "execute_result"
    }
   ],
   "source": [
    "y_test[0]"
   ]
  },
  {
   "cell_type": "markdown",
   "metadata": {
    "id": "74E0_h43t-6R"
   },
   "source": [
    "#### 02a Save the encoder part"
   ]
  },
  {
   "cell_type": "code",
   "execution_count": 23,
   "metadata": {
    "id": "4LapM6fEt-6S"
   },
   "outputs": [],
   "source": [
    "encoder = Model(inputs=input_img, outputs=encoded)\n",
    "encoder.save('models/encoder_simple.h5')"
   ]
  },
  {
   "cell_type": "markdown",
   "metadata": {
    "id": "w6MWUPAlt-6S"
   },
   "source": [
    "### 03 Test encoded images with a LogReg"
   ]
  },
  {
   "cell_type": "code",
   "execution_count": null,
   "metadata": {
    "id": "4e4qE7Uit-6T"
   },
   "outputs": [],
   "source": []
  },
  {
   "cell_type": "code",
   "execution_count": 24,
   "metadata": {
    "executionInfo": {
     "elapsed": 6453,
     "status": "ok",
     "timestamp": 1616844635043,
     "user": {
      "displayName": "ashhadul islam",
      "photoUrl": "https://lh3.googleusercontent.com/a-/AOh14GgxgsFS_X9prtZXhkrytzUHFBW_a3K5S2EVFnQ9Ew=s64",
      "userId": "15870531044939576267"
     },
     "user_tz": -180
    },
    "id": "v0Ekg_EUt-6T"
   },
   "outputs": [],
   "source": [
    "def flatten_encoded_images_for_logreg(X_array):\n",
    "    print(X_array.shape)\n",
    "    X_array_flattened=[]\n",
    "    for i in range(X_array.shape[0]):\n",
    "        X_array_flattened.append(X_array[i].flatten())\n",
    "    X_array_flattened=np.array(X_array_flattened)\n",
    "    print(\"Shape is \",X_array_flattened.shape)\n",
    "    return X_array_flattened"
   ]
  },
  {
   "cell_type": "code",
   "execution_count": 25,
   "metadata": {
    "colab": {
     "base_uri": "https://localhost:8080/"
    },
    "executionInfo": {
     "elapsed": 45612,
     "status": "ok",
     "timestamp": 1616844674409,
     "user": {
      "displayName": "ashhadul islam",
      "photoUrl": "https://lh3.googleusercontent.com/a-/AOh14GgxgsFS_X9prtZXhkrytzUHFBW_a3K5S2EVFnQ9Ew=s64",
      "userId": "15870531044939576267"
     },
     "user_tz": -180
    },
    "id": "ZWOWck3qt-6T",
    "outputId": "576e4c02-5e7a-40b2-a1fa-9f165ec7d197"
   },
   "outputs": [
    {
     "name": "stdout",
     "output_type": "stream",
     "text": [
      "WARNING:tensorflow:No training configuration found in the save file, so the model was *not* compiled. Compile it manually.\n",
      "(50000, 8, 8, 8)\n",
      "Shape is  (50000, 512)\n",
      "Shape of encoded flat (50000, 512)\n",
      "(10000, 8, 8, 8)\n",
      "Shape is  (10000, 512)\n",
      "Shape of encoded flat (10000, 8, 8, 8)\n"
     ]
    }
   ],
   "source": [
    "# load the model from file\n",
    "encoder = load_model('models/encoder_simple.h5')\n",
    "# encode the train data\n",
    "x_train_encode = encoder.predict(x_train)\n",
    "x_train_encode_flat=flatten_encoded_images_for_logreg(x_train_encode)\n",
    "\n",
    "# x_train_encode=x_train_encode.flatten()\n",
    "print(\"Shape of encoded flat\",x_train_encode_flat.shape)\n",
    "# encode the test data\n",
    "x_test_encode = encoder.predict(x_test)\n",
    "x_test_encode_flat=flatten_encoded_images_for_logreg(x_test_encode)\n",
    "print(\"Shape of encoded flat\",x_test_encode.shape)\n",
    "\n"
   ]
  },
  {
   "cell_type": "code",
   "execution_count": 26,
   "metadata": {
    "colab": {
     "base_uri": "https://localhost:8080/"
    },
    "executionInfo": {
     "elapsed": 54747,
     "status": "ok",
     "timestamp": 1616844685367,
     "user": {
      "displayName": "ashhadul islam",
      "photoUrl": "https://lh3.googleusercontent.com/a-/AOh14GgxgsFS_X9prtZXhkrytzUHFBW_a3K5S2EVFnQ9Ew=s64",
      "userId": "15870531044939576267"
     },
     "user_tz": -180
    },
    "id": "BiGuUSEut-6U",
    "outputId": "a4f5d18b-d425-49a6-bb12-a1aa510d96d3"
   },
   "outputs": [
    {
     "name": "stderr",
     "output_type": "stream",
     "text": [
      "/lustre/gfxhome/asislam25/.conda/envs/venv_vasic_gpu/lib/python3.6/site-packages/sklearn/utils/validation.py:73: DataConversionWarning: A column-vector y was passed when a 1d array was expected. Please change the shape of y to (n_samples, ), for example using ravel().\n",
      "  return f(**kwargs)\n"
     ]
    },
    {
     "name": "stdout",
     "output_type": "stream",
     "text": [
      "0.4002\n"
     ]
    },
    {
     "name": "stderr",
     "output_type": "stream",
     "text": [
      "/lustre/gfxhome/asislam25/.conda/envs/venv_vasic_gpu/lib/python3.6/site-packages/sklearn/linear_model/_logistic.py:764: ConvergenceWarning: lbfgs failed to converge (status=1):\n",
      "STOP: TOTAL NO. of ITERATIONS REACHED LIMIT.\n",
      "\n",
      "Increase the number of iterations (max_iter) or scale the data as shown in:\n",
      "    https://scikit-learn.org/stable/modules/preprocessing.html\n",
      "Please also refer to the documentation for alternative solver options:\n",
      "    https://scikit-learn.org/stable/modules/linear_model.html#logistic-regression\n",
      "  extra_warning_msg=_LOGISTIC_SOLVER_CONVERGENCE_MSG)\n"
     ]
    }
   ],
   "source": [
    "# define the model\n",
    "model = LogisticRegression()\n",
    "# fit the model on the training set\n",
    "model.fit(x_train_encode_flat, y_train)\n",
    "# make predictions on the test set\n",
    "yhat = model.predict(x_test_encode_flat)\n",
    "# calculate classification accuracy\n",
    "acc = accuracy_score(y_test, yhat)\n",
    "print(acc)"
   ]
  },
  {
   "cell_type": "markdown",
   "metadata": {
    "id": "lboISutXt-6V"
   },
   "source": [
    "### 04 Test encoded images with a CNN"
   ]
  },
  {
   "cell_type": "code",
   "execution_count": null,
   "metadata": {
    "executionInfo": {
     "elapsed": 53137,
     "status": "ok",
     "timestamp": 1616844685369,
     "user": {
      "displayName": "ashhadul islam",
      "photoUrl": "https://lh3.googleusercontent.com/a-/AOh14GgxgsFS_X9prtZXhkrytzUHFBW_a3K5S2EVFnQ9Ew=s64",
      "userId": "15870531044939576267"
     },
     "user_tz": -180
    },
    "id": "ZbSJw9ayt-6V"
   },
   "outputs": [],
   "source": [
    "# https://towardsdatascience.com/building-a-convolutional-neural-network-cnn-in-keras-329fbbadc5f5"
   ]
  },
  {
   "cell_type": "markdown",
   "metadata": {
    "id": "wy4ynoFot-6W"
   },
   "source": [
    "#### 04a Convert y values to categorical"
   ]
  },
  {
   "cell_type": "code",
   "execution_count": 27,
   "metadata": {
    "colab": {
     "base_uri": "https://localhost:8080/"
    },
    "executionInfo": {
     "elapsed": 52726,
     "status": "ok",
     "timestamp": 1616844685373,
     "user": {
      "displayName": "ashhadul islam",
      "photoUrl": "https://lh3.googleusercontent.com/a-/AOh14GgxgsFS_X9prtZXhkrytzUHFBW_a3K5S2EVFnQ9Ew=s64",
      "userId": "15870531044939576267"
     },
     "user_tz": -180
    },
    "id": "haPi001Kt-6W",
    "outputId": "a15d001c-56b2-4c78-fc1f-2ca501fe95d3"
   },
   "outputs": [
    {
     "name": "stdout",
     "output_type": "stream",
     "text": [
      "(50000, 10) (10000, 10)\n"
     ]
    }
   ],
   "source": [
    "#one-hot encode target column\n",
    "y_train_one_hot = to_categorical(y_train)\n",
    "y_test_one_hot = to_categorical(y_test)\n",
    "print(y_train_one_hot.shape,y_test_one_hot.shape)"
   ]
  },
  {
   "cell_type": "markdown",
   "metadata": {
    "id": "IIRuNKr3t-6X"
   },
   "source": [
    "#### 04b Extract features using encoder"
   ]
  },
  {
   "cell_type": "code",
   "execution_count": 28,
   "metadata": {
    "colab": {
     "base_uri": "https://localhost:8080/"
    },
    "executionInfo": {
     "elapsed": 55245,
     "status": "ok",
     "timestamp": 1616844688620,
     "user": {
      "displayName": "ashhadul islam",
      "photoUrl": "https://lh3.googleusercontent.com/a-/AOh14GgxgsFS_X9prtZXhkrytzUHFBW_a3K5S2EVFnQ9Ew=s64",
      "userId": "15870531044939576267"
     },
     "user_tz": -180
    },
    "id": "FhGJassCt-6X",
    "outputId": "ddf1c742-db94-4d65-8b3f-72dafbdfe5ff"
   },
   "outputs": [
    {
     "name": "stdout",
     "output_type": "stream",
     "text": [
      "WARNING:tensorflow:No training configuration found in the save file, so the model was *not* compiled. Compile it manually.\n",
      "Shape of training encoded images (50000, 8, 8, 8)\n",
      "Shape of testing encoded images (10000, 8, 8, 8)\n"
     ]
    }
   ],
   "source": [
    "# load the model from file\n",
    "encoder = load_model('models/encoder_simple.h5')\n",
    "# encode the train data\n",
    "x_train_encode = encoder.predict(x_train)\n",
    "print(\"Shape of training encoded images\",x_train_encode.shape)\n",
    "\n",
    "# encode the test data\n",
    "x_test_encode = encoder.predict(x_test)\n",
    "print(\"Shape of testing encoded images\",x_test_encode.shape)\n"
   ]
  },
  {
   "cell_type": "code",
   "execution_count": 29,
   "metadata": {
    "colab": {
     "base_uri": "https://localhost:8080/"
    },
    "executionInfo": {
     "elapsed": 54005,
     "status": "ok",
     "timestamp": 1616844688622,
     "user": {
      "displayName": "ashhadul islam",
      "photoUrl": "https://lh3.googleusercontent.com/a-/AOh14GgxgsFS_X9prtZXhkrytzUHFBW_a3K5S2EVFnQ9Ew=s64",
      "userId": "15870531044939576267"
     },
     "user_tz": -180
    },
    "id": "wYI1aV4it-6Y",
    "outputId": "d1bc0002-d207-4cf9-e2d2-be03e4c62632"
   },
   "outputs": [
    {
     "name": "stdout",
     "output_type": "stream",
     "text": [
      "(8, 8, 8) (8, 8, 8)\n"
     ]
    }
   ],
   "source": [
    "print(x_train_encode[0].shape,x_test_encode[1].shape)"
   ]
  },
  {
   "cell_type": "markdown",
   "metadata": {
    "id": "byMqYxMot-6Y"
   },
   "source": [
    "### 04c create a CNN that takes encoded image as input"
   ]
  },
  {
   "cell_type": "code",
   "execution_count": 43,
   "metadata": {
    "colab": {
     "base_uri": "https://localhost:8080/"
    },
    "executionInfo": {
     "elapsed": 257589,
     "status": "ok",
     "timestamp": 1616844903139,
     "user": {
      "displayName": "ashhadul islam",
      "photoUrl": "https://lh3.googleusercontent.com/a-/AOh14GgxgsFS_X9prtZXhkrytzUHFBW_a3K5S2EVFnQ9Ew=s64",
      "userId": "15870531044939576267"
     },
     "user_tz": -180
    },
    "id": "IsyKLtfYt-6Y",
    "outputId": "a682103a-2fd2-4902-b3ee-fa3763656eed"
   },
   "outputs": [],
   "source": [
    "def get_model(x_train):\n",
    "    # define a CNN to make the predictions\n",
    "    #create model\n",
    "    model = Sequential()#add model layers\n",
    "    model.add(Conv2D(24, kernel_size=5, padding=\"same\", activation='relu', input_shape=x_train[0].shape))\n",
    "    model.add(MaxPool2D())\n",
    "    model.add(Conv2D(48, kernel_size=5, padding=\"same\", activation='relu'))\n",
    "    model.add(MaxPool2D())\n",
    "    model.add(Conv2D(64, kernel_size=5, padding=\"same\", activation='relu'))\n",
    "    model.add(MaxPool2D(padding='same'))\n",
    "    model.add(Flatten())\n",
    "    model.add(Dense(32, activation='relu'))\n",
    "    model.add(Dense(16, activation='relu'))\n",
    "    model.add(Dense(10, activation='softmax'))\n",
    "\n",
    "    #compile model using accuracy to measure model performance\n",
    "    model.compile(optimizer='adam', loss='categorical_crossentropy', metrics=['accuracy'])    \n",
    "    return model\n",
    "    \n",
    "# from: https://machinelearningmastery.com/how-to-develop-a-cnn-from-scratch-for-cifar-10-photo-classification/\n",
    "def define_model_VGG3(x_train):\n",
    "    model = Sequential()\n",
    "    model.add(Conv2D(32, (3, 3), activation='relu', kernel_initializer='he_uniform', padding='same', input_shape=x_train[0].shape))\n",
    "    model.add(Conv2D(32, (3, 3), activation='relu', kernel_initializer='he_uniform', padding='same'))\n",
    "    model.add(MaxPooling2D((2, 2)))\n",
    "    model.add(Dropout(0.2))\n",
    "    model.add(Conv2D(64, (3, 3), activation='relu', kernel_initializer='he_uniform', padding='same'))\n",
    "    model.add(Conv2D(64, (3, 3), activation='relu', kernel_initializer='he_uniform', padding='same'))\n",
    "    model.add(MaxPooling2D((2, 2)))\n",
    "    model.add(Dropout(0.2))\n",
    "    model.add(Conv2D(128, (3, 3), activation='relu', kernel_initializer='he_uniform', padding='same'))\n",
    "    model.add(Conv2D(128, (3, 3), activation='relu', kernel_initializer='he_uniform', padding='same'))\n",
    "    model.add(MaxPooling2D((2, 2)))\n",
    "    model.add(Dropout(0.2))\n",
    "    model.add(Flatten())\n",
    "    model.add(Dense(128, activation='relu', kernel_initializer='he_uniform'))\n",
    "    model.add(Dropout(0.2))\n",
    "    model.add(Dense(10, activation='softmax'))\n",
    "    # compile model\n",
    "    opt = SGD(lr=0.001, momentum=0.9)\n",
    "    model.compile(optimizer=opt, loss='categorical_crossentropy', metrics=['accuracy'])\n",
    "    return model\n"
   ]
  },
  {
   "cell_type": "code",
   "execution_count": 44,
   "metadata": {
    "colab": {
     "base_uri": "https://localhost:8080/",
     "height": 295
    },
    "executionInfo": {
     "elapsed": 257600,
     "status": "ok",
     "timestamp": 1616844904205,
     "user": {
      "displayName": "ashhadul islam",
      "photoUrl": "https://lh3.googleusercontent.com/a-/AOh14GgxgsFS_X9prtZXhkrytzUHFBW_a3K5S2EVFnQ9Ew=s64",
      "userId": "15870531044939576267"
     },
     "user_tz": -180
    },
    "id": "9tu8vfbBt-6Y",
    "outputId": "101fcaf9-b0ca-4289-9ad8-dc60bd56d181"
   },
   "outputs": [
    {
     "name": "stdout",
     "output_type": "stream",
     "text": [
      "313/313 [==============================] - 1s 2ms/step - loss: 2.5591 - accuracy: 0.4600\n",
      "Accuracy is  0.46000000834465027\n",
      "313/313 [==============================] - 1s 3ms/step - loss: 2.8204 - accuracy: 0.4738\n",
      "Accuracy is  0.47380000352859497\n",
      "313/313 [==============================] - 1s 3ms/step - loss: 2.6938 - accuracy: 0.4563\n",
      "Accuracy is  0.4562999904155731\n",
      "313/313 [==============================] - 1s 3ms/step - loss: 2.5869 - accuracy: 0.4638\n",
      "Accuracy is  0.46380001306533813\n",
      "313/313 [==============================] - 1s 2ms/step - loss: 2.7664 - accuracy: 0.4485\n",
      "Accuracy is  0.44850000739097595\n",
      "313/313 [==============================] - 1s 3ms/step - loss: 2.6544 - accuracy: 0.4692\n",
      "Accuracy is  0.4691999852657318\n",
      "313/313 [==============================] - 1s 3ms/step - loss: 2.7370 - accuracy: 0.4676\n",
      "Accuracy is  0.4675999879837036\n",
      "313/313 [==============================] - 1s 3ms/step - loss: 2.4158 - accuracy: 0.4785\n",
      "Accuracy is  0.47850000858306885\n",
      "313/313 [==============================] - 1s 3ms/step - loss: 2.4643 - accuracy: 0.4560\n",
      "Accuracy is  0.4560000002384186\n"
     ]
    }
   ],
   "source": [
    "acc_list=[]\n",
    "for i in range(10):\n",
    "    model=get_model(x_train_encode)\n",
    "    # print(model.summary())\n",
    "    #train the model\n",
    "    num_epochs=100\n",
    "    history=model.fit(x_train_encode, y_train_one_hot, validation_data=(x_test_encode, y_test_one_hot), epochs=num_epochs,verbose=0)\n",
    "    loss,acc=model.evaluate(x_test_encode, y_test_one_hot)\n",
    "    print(\"Accuracy is \",acc)\n",
    "    acc_list.append(acc)\n"
   ]
  },
  {
   "cell_type": "code",
   "execution_count": 48,
   "metadata": {
    "id": "6LytWRPWt-6Z"
   },
   "outputs": [
    {
     "name": "stdout",
     "output_type": "stream",
     "text": [
      "0.46283999979496004\n"
     ]
    }
   ],
   "source": [
    "print(sum(acc_list)/len(acc_list))\n"
   ]
  },
  {
   "cell_type": "code",
   "execution_count": 40,
   "metadata": {},
   "outputs": [
    {
     "data": {
      "text/plain": [
       "[0.5860000252723694,\n",
       " 0.5889000296592712,\n",
       " 0.5878000259399414,\n",
       " 0.5914000272750854,\n",
       " 0.5978000164031982,\n",
       " 0.5898000001907349,\n",
       " 0.5996999740600586,\n",
       " 0.5795999765396118,\n",
       " 0.589900016784668,\n",
       " 0.597100019454956]"
      ]
     },
     "execution_count": 40,
     "metadata": {},
     "output_type": "execute_result"
    }
   ],
   "source": [
    "acc_list"
   ]
  },
  {
   "cell_type": "code",
   "execution_count": 47,
   "metadata": {},
   "outputs": [
    {
     "data": {
      "image/png": "[encoded data removed]",
      "text/plain": [
       "<Figure size 432x288 with 1 Axes>"
      ]
     },
     "metadata": {
      "needs_background": "light"
     },
     "output_type": "display_data"
    }
   ],
   "source": [
    "import matplotlib.pyplot as plt\n",
    "\n",
    "plt.plot(history.history['accuracy'])\n",
    "plt.plot(history.history['val_accuracy'])\n",
    "plt.title('model accuracy')\n",
    "plt.ylabel('accuracy')\n",
    "plt.xlabel('epoch')\n",
    "plt.legend(['train', 'test'], loc='upper left')\n",
    "plt.show()"
   ]
  },
  {
   "cell_type": "code",
   "execution_count": null,
   "metadata": {},
   "outputs": [],
   "source": []
  }
 ],
 "metadata": {
  "accelerator": "GPU",
  "colab": {
   "name": "03_Model_AutoEnc_CIFAR10.ipynb",
   "provenance": []
  },
  "kernelspec": {
   "display_name": "Python 3",
   "language": "python",
   "name": "python3"
  },
  "language_info": {
   "codemirror_mode": {
    "name": "ipython",
    "version": 3
   },
   "file_extension": ".py",
   "mimetype": "text/x-python",
   "name": "python",
   "nbconvert_exporter": "python",
   "pygments_lexer": "ipython3",
   "version": "3.6.10"
  }
 },
 "nbformat": 4,
 "nbformat_minor": 1
}
